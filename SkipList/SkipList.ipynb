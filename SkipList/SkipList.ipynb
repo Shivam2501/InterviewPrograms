{
 "cells": [
  {
   "cell_type": "code",
   "execution_count": 1,
   "metadata": {
    "collapsed": true
   },
   "outputs": [],
   "source": [
    "import random"
   ]
  },
  {
   "cell_type": "code",
   "execution_count": 2,
   "metadata": {
    "collapsed": true
   },
   "outputs": [],
   "source": [
    "class Node:\n",
    "    def __init__(self, data):\n",
    "        self.data = data\n",
    "        self.next = None\n",
    "        self.prev = None\n",
    "        self.up = None\n",
    "        self.down = None\n",
    "    \n",
    "    def __str__(self):\n",
    "        return str(self.data)"
   ]
  },
  {
   "cell_type": "code",
   "execution_count": 3,
   "metadata": {
    "collapsed": true
   },
   "outputs": [],
   "source": [
    "class DoublyLinkedList:\n",
    "    def __init__(self, head=None):\n",
    "        self.head = head\n",
    "    \n",
    "    def appendToHead(self, data):\n",
    "        newNode = Node(data)\n",
    "        newNode.next = self.head\n",
    "        newNode.prev = None\n",
    "        if self.head != None:\n",
    "            self.head.prev = newNode\n",
    "        self.head = newNode\n",
    "        return newNode\n",
    "            \n",
    "    def deleteNode(self, node):\n",
    "        if node == self.head:\n",
    "            nextNode = node.next\n",
    "            if nextNode is not None:\n",
    "                nextNode.prev = None\n",
    "            self.head = nextNode\n",
    "        else:\n",
    "            prevNode = node.prev\n",
    "            nextNode = node.next\n",
    "            if prevNode is not None:\n",
    "                prevNode.next = nextNode\n",
    "            if nextNode is not None:\n",
    "                nextNode.prev = prevNode"
   ]
  },
  {
   "cell_type": "code",
   "execution_count": 4,
   "metadata": {
    "collapsed": false
   },
   "outputs": [],
   "source": [
    "class SkipList:\n",
    "    \n",
    "    def __init__(self):\n",
    "        self.maxLayers = 32\n",
    "        self.layers = 1\n",
    "        self.head = [DoublyLinkedList()]*self.layers\n",
    "        \n",
    "    def probability(self):\n",
    "        return random.choice([True, False])\n",
    "            \n",
    "    def insert(self, value):\n",
    "        level = 0\n",
    "        if self.head[level].head == None:\n",
    "            self.head[level].appendToHead(value)\n",
    "            while self.probability() !=  False:\n",
    "                level += 1\n",
    "                self.layers += 1\n",
    "                #create a new level and add the value\n",
    "                self.head.append(DoublyLinkedList())\n",
    "                self.head[level].appendToHead(value)\n",
    "                #set the up and down pointers\n",
    "                self.head[level].head.down = self.head[level - 1].head\n",
    "                self.head[level - 1].head.up = self.head[level].head\n",
    "                if self.layers == self.maxLayers:\n",
    "                    break\n",
    "        else:\n",
    "            level = self.layers - 1\n",
    "            top = self.head[level].head\n",
    "            while top == None and level > 0:\n",
    "                level -= 1\n",
    "                top = self.head[level].head\n",
    "            #find the position to insert the element\n",
    "            while True:\n",
    "                while top.prev != None and top.data > value:\n",
    "                    top = top.prev\n",
    "                while top.next != None and top.next.data <= value:\n",
    "                    top = top.next\n",
    "                if level == 0:\n",
    "                    break\n",
    "                level -= 1\n",
    "                top = top.down\n",
    "            #insert the element\n",
    "            if top.data != value:\n",
    "                while top.prev != None and top.data > value:\n",
    "                    top = top.prev\n",
    "                #insert at head\n",
    "                if top.data > value:\n",
    "                    temp = self.head[level].head\n",
    "                    self.head[level].head = Node(value)\n",
    "                    self.head[level].head.next = temp\n",
    "                    temp.prev = self.head[level].head\n",
    "                    \n",
    "                    top = self.head[level].head\n",
    "                else:\n",
    "                    temp = top.next\n",
    "                    top.next = Node(value)\n",
    "                    top.next.next = temp\n",
    "                    if temp != None:\n",
    "                        temp.prev = top.next\n",
    "                    top.next.prev = top\n",
    "\n",
    "                    top = top.next\n",
    "            else:\n",
    "                #if element already exists\n",
    "                while top.up != None:\n",
    "                    top = top.up\n",
    "                    level += 1\n",
    "            \n",
    "            while self.probability() != False:\n",
    "                level += 1\n",
    "                if level == self.maxLayers:\n",
    "                    break\n",
    "                #create a new level with new node as the head\n",
    "                if level > self.layers - 1 or self.head[level].head == None:\n",
    "                    self.layers += 1\n",
    "                    #create a new level and add the value\n",
    "                    self.head.append(DoublyLinkedList())\n",
    "                    self.head[level].appendToHead(value)\n",
    "                    #set the up and down pointers\n",
    "                    self.head[level].head.down = top\n",
    "                    top.up = self.head[level].head\n",
    "                    \n",
    "                    top = self.head[level].head\n",
    "                else:\n",
    "                    #find the node to insert after\n",
    "                    previous = top.prev\n",
    "                    if previous == None:\n",
    "                        temp = self.head[level].head\n",
    "                        self.head[level].head = Node(value)\n",
    "                        self.head[level].head.next = temp\n",
    "                        temp.prev = self.head[level].head\n",
    "                        #set the up and down pointers\n",
    "                        self.head[level].head.down = top\n",
    "                        top.up = self.head[level].head\n",
    "                            \n",
    "                        top = self.head[level].head\n",
    "                    else:\n",
    "                        while previous.prev != None and previous.up == None:\n",
    "                            previous = previous.prev\n",
    "                        if previous.up == None:\n",
    "                            temp = self.head[level].head\n",
    "                            self.head[level].head = Node(value)\n",
    "                            self.head[level].head.next = temp\n",
    "                            temp.prev = self.head[level].head\n",
    "                            #set the up and down pointers\n",
    "                            self.head[level].head.down = top\n",
    "                            top.up = self.head[level].head\n",
    "                            \n",
    "                            top = self.head[level].head\n",
    "                        else:\n",
    "                            #insert the node\n",
    "                            previous = previous.up\n",
    "                            temp = previous.next\n",
    "                            previous.next = Node(value)\n",
    "                            previous.next.next = temp\n",
    "                            if temp != None:\n",
    "                                temp.prev = previous.next\n",
    "                            previous.next.prev = previous\n",
    "                            #set the up and down pointers\n",
    "                            previous.next.down = top\n",
    "                            top.up = previous.next\n",
    "                            top = previous.next\n",
    "\n",
    "    def lookup(self, value):\n",
    "        level = self.layers - 1\n",
    "        top = self.head[level].head\n",
    "        if top == None:\n",
    "            return False\n",
    "        else:\n",
    "            while True:\n",
    "                while top.prev != None and top.data > value:\n",
    "                    top = top.prev\n",
    "                while top.next != None and top.next.data <= value:\n",
    "                    top = top.next\n",
    "                if level == 0 or top.data == value:\n",
    "                    break\n",
    "                level -= 1\n",
    "                top = top.down\n",
    "            if top.data == value:\n",
    "                return True\n",
    "            else:\n",
    "                return False\n",
    "    \n",
    "    def delete(self, value):\n",
    "        level = self.layers - 1\n",
    "        top = self.head[level].head\n",
    "        while top == None and level > 0:\n",
    "            level -= 1\n",
    "            top = self.head[level].head\n",
    "        if top == None:\n",
    "            print(\"Element is not Present\")\n",
    "            return\n",
    "        else:\n",
    "            while True:\n",
    "                while top.prev != None and top.data > value:\n",
    "                    top = top.prev\n",
    "                while top.next != None and top.next.data <= value:\n",
    "                    top = top.next\n",
    "                if level == 0:\n",
    "                    break\n",
    "                level -= 1\n",
    "                top = top.down\n",
    "            if top.data == value:\n",
    "                while True:\n",
    "                    self.head[level].deleteNode(top)\n",
    "                    if top.up != None:\n",
    "                        top = top.up\n",
    "                        level += 1\n",
    "                    else:\n",
    "                        break\n",
    "            else:\n",
    "                print(\"Element is not Present\")\n",
    "                return"
   ]
  },
  {
   "cell_type": "code",
   "execution_count": 5,
   "metadata": {
    "collapsed": false
   },
   "outputs": [],
   "source": [
    "skip_list = SkipList()"
   ]
  },
  {
   "cell_type": "code",
   "execution_count": 6,
   "metadata": {
    "collapsed": false
   },
   "outputs": [],
   "source": [
    "skip_list.insert(4)\n",
    "skip_list.insert(2)\n",
    "skip_list.insert(3)\n",
    "skip_list.insert(9)\n",
    "skip_list.insert(8)\n",
    "skip_list.insert(7)\n",
    "skip_list.insert(12)\n",
    "skip_list.insert(10)\n",
    "skip_list.insert(7.5)"
   ]
  },
  {
   "cell_type": "code",
   "execution_count": 7,
   "metadata": {
    "collapsed": false
   },
   "outputs": [
    {
     "name": "stdout",
     "output_type": "stream",
     "text": [
      "False\n",
      "True\n"
     ]
    }
   ],
   "source": [
    "print(skip_list.lookup(1))\n",
    "print(skip_list.lookup(7))"
   ]
  },
  {
   "cell_type": "code",
   "execution_count": 8,
   "metadata": {
    "collapsed": false
   },
   "outputs": [
    {
     "name": "stdout",
     "output_type": "stream",
     "text": [
      "Element is not Present\n"
     ]
    }
   ],
   "source": [
    "skip_list.delete(1)"
   ]
  },
  {
   "cell_type": "code",
   "execution_count": 9,
   "metadata": {
    "collapsed": false
   },
   "outputs": [],
   "source": [
    "skip_list.delete(4)"
   ]
  },
  {
   "cell_type": "code",
   "execution_count": 10,
   "metadata": {
    "collapsed": false,
    "scrolled": true
   },
   "outputs": [
    {
     "data": {
      "text/plain": [
       "False"
      ]
     },
     "execution_count": 10,
     "metadata": {},
     "output_type": "execute_result"
    }
   ],
   "source": [
    "skip_list.lookup(4)"
   ]
  },
  {
   "cell_type": "code",
   "execution_count": 11,
   "metadata": {
    "collapsed": false
   },
   "outputs": [
    {
     "name": "stdout",
     "output_type": "stream",
     "text": [
      "2\n"
     ]
    }
   ],
   "source": [
    "print(skip_list.head[0].head)"
   ]
  },
  {
   "cell_type": "code",
   "execution_count": 12,
   "metadata": {
    "collapsed": false
   },
   "outputs": [],
   "source": [
    "skip_list.delete(2)"
   ]
  },
  {
   "cell_type": "code",
   "execution_count": 13,
   "metadata": {
    "collapsed": false
   },
   "outputs": [
    {
     "data": {
      "text/plain": [
       "False"
      ]
     },
     "execution_count": 13,
     "metadata": {},
     "output_type": "execute_result"
    }
   ],
   "source": [
    "skip_list.lookup(2)"
   ]
  },
  {
   "cell_type": "code",
   "execution_count": 14,
   "metadata": {
    "collapsed": false
   },
   "outputs": [
    {
     "name": "stdout",
     "output_type": "stream",
     "text": [
      "Element is not Present\n"
     ]
    }
   ],
   "source": [
    "skip_list.delete(2)"
   ]
  },
  {
   "cell_type": "code",
   "execution_count": 15,
   "metadata": {
    "collapsed": false
   },
   "outputs": [],
   "source": [
    "skip_list.delete(3)"
   ]
  },
  {
   "cell_type": "code",
   "execution_count": 16,
   "metadata": {
    "collapsed": false,
    "scrolled": true
   },
   "outputs": [
    {
     "data": {
      "text/plain": [
       "False"
      ]
     },
     "execution_count": 16,
     "metadata": {},
     "output_type": "execute_result"
    }
   ],
   "source": [
    "skip_list.lookup(3)"
   ]
  },
  {
   "cell_type": "code",
   "execution_count": 17,
   "metadata": {
    "collapsed": false,
    "scrolled": true
   },
   "outputs": [
    {
     "name": "stdout",
     "output_type": "stream",
     "text": [
      "7.5\n"
     ]
    }
   ],
   "source": [
    "print(skip_list.head[1].head)"
   ]
  },
  {
   "cell_type": "code",
   "execution_count": 18,
   "metadata": {
    "collapsed": false
   },
   "outputs": [],
   "source": [
    "#skip_list.insert(2)"
   ]
  },
  {
   "cell_type": "code",
   "execution_count": 19,
   "metadata": {
    "collapsed": false
   },
   "outputs": [
    {
     "name": "stdout",
     "output_type": "stream",
     "text": [
      "7\n"
     ]
    }
   ],
   "source": [
    "print(skip_list.head[0].head)"
   ]
  },
  {
   "cell_type": "code",
   "execution_count": 20,
   "metadata": {
    "collapsed": false
   },
   "outputs": [],
   "source": [
    "skip_list.insert(2)"
   ]
  },
  {
   "cell_type": "code",
   "execution_count": 21,
   "metadata": {
    "collapsed": false
   },
   "outputs": [
    {
     "name": "stdout",
     "output_type": "stream",
     "text": [
      "2\n"
     ]
    }
   ],
   "source": [
    "print(skip_list.head[0].head)"
   ]
  },
  {
   "cell_type": "code",
   "execution_count": 22,
   "metadata": {
    "collapsed": true
   },
   "outputs": [],
   "source": [
    "skip_list.insert(1)\n",
    "skip_list.insert(3)"
   ]
  },
  {
   "cell_type": "code",
   "execution_count": null,
   "metadata": {
    "collapsed": true
   },
   "outputs": [],
   "source": []
  }
 ],
 "metadata": {
  "anaconda-cloud": {},
  "kernelspec": {
   "display_name": "Python [conda root]",
   "language": "python",
   "name": "conda-root-py"
  },
  "language_info": {
   "codemirror_mode": {
    "name": "ipython",
    "version": 3
   },
   "file_extension": ".py",
   "mimetype": "text/x-python",
   "name": "python",
   "nbconvert_exporter": "python",
   "pygments_lexer": "ipython3",
   "version": "3.5.2"
  }
 },
 "nbformat": 4,
 "nbformat_minor": 1
}
