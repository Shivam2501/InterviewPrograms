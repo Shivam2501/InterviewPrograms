{
 "cells": [
  {
   "cell_type": "code",
   "execution_count": 1,
   "metadata": {
    "collapsed": true
   },
   "outputs": [],
   "source": [
    "class Node:\n",
    "    def __init__(self, data):\n",
    "        self.data = data\n",
    "        self.next = None\n",
    "    \n",
    "    def setNext(self, nextNode):\n",
    "        self.next = nextNode\n",
    "    \n",
    "    def __str__(self):\n",
    "        return str(self.data)\n",
    "    "
   ]
  },
  {
   "cell_type": "code",
   "execution_count": 2,
   "metadata": {
    "collapsed": false
   },
   "outputs": [],
   "source": [
    "class LinkedList:\n",
    "    def __init__(self, head=None):\n",
    "        self.head = head\n",
    "    \n",
    "    def appendToHead(self, data):\n",
    "        newNode = Node(data)\n",
    "        newNode.setNext(self.head)\n",
    "        self.head = newNode\n",
    "        \n",
    "    def appendToTail(self, data):\n",
    "        newNode = Node(data)\n",
    "        currHead = self.head\n",
    "        while currHead.next is not None:\n",
    "            currHead = currHead.next\n",
    "        currHead.setNext(newNode)\n",
    "        \n",
    "    def searchNode(self, data):\n",
    "        flag = 0\n",
    "        currHead = self.head\n",
    "        while currHead is not None:\n",
    "            if currHead.data == data:\n",
    "                flag = 1\n",
    "                break\n",
    "            else:\n",
    "                currHead = currHead.next\n",
    "        if flag:\n",
    "            print(\"Node is Present\")\n",
    "        else:\n",
    "            print(\"Node is not Present\")\n",
    "            \n",
    "    def deleteNode(self, data):\n",
    "        currHead = self.head\n",
    "        if currHead is None:\n",
    "            print(\"List is Empty\")\n",
    "            return\n",
    "        else:\n",
    "            previous = None\n",
    "            while currHead is not None:\n",
    "                if currHead.data == data:\n",
    "                    if currHead == self.head:\n",
    "                        self.head.setNext(currHead.next)\n",
    "                        print(\"Element Removed from Head\")\n",
    "                        break\n",
    "                    else:\n",
    "                        previous.setNext(currHead.next)\n",
    "                        print(\"Element Removed\")\n",
    "                        break\n",
    "                else:\n",
    "                    previous = currHead\n",
    "                    currHead = currHead.next\n",
    "                    "
   ]
  },
  {
   "cell_type": "code",
   "execution_count": 5,
   "metadata": {
    "collapsed": false
   },
   "outputs": [
    {
     "ename": "AttributeError",
     "evalue": "'NoneType' object has no attribute 'next'",
     "output_type": "error",
     "traceback": [
      "\u001b[0;31m---------------------------------------------------------------------------\u001b[0m",
      "\u001b[0;31mAttributeError\u001b[0m                            Traceback (most recent call last)",
      "\u001b[0;32m<ipython-input-5-713d174568df>\u001b[0m in \u001b[0;36m<module>\u001b[0;34m()\u001b[0m\n\u001b[1;32m      1\u001b[0m \u001b[0mnode\u001b[0m \u001b[0;34m=\u001b[0m \u001b[0mNode\u001b[0m\u001b[0;34m(\u001b[0m\u001b[0;36m6\u001b[0m\u001b[0;34m)\u001b[0m\u001b[0;34m\u001b[0m\u001b[0m\n\u001b[1;32m      2\u001b[0m \u001b[0mhead\u001b[0m \u001b[0;34m=\u001b[0m \u001b[0mLinkedList\u001b[0m\u001b[0;34m(\u001b[0m\u001b[0;34m)\u001b[0m\u001b[0;34m\u001b[0m\u001b[0m\n\u001b[0;32m----> 3\u001b[0;31m \u001b[0mhead\u001b[0m\u001b[0;34m.\u001b[0m\u001b[0mappendToTail\u001b[0m\u001b[0;34m(\u001b[0m\u001b[0;36m3\u001b[0m\u001b[0;34m)\u001b[0m\u001b[0;34m\u001b[0m\u001b[0m\n\u001b[0m\u001b[1;32m      4\u001b[0m \u001b[0mhead\u001b[0m\u001b[0;34m.\u001b[0m\u001b[0msearchNode\u001b[0m\u001b[0;34m(\u001b[0m\u001b[0;36m3\u001b[0m\u001b[0;34m)\u001b[0m\u001b[0;34m\u001b[0m\u001b[0m\n\u001b[1;32m      5\u001b[0m \u001b[0mhead\u001b[0m\u001b[0;34m.\u001b[0m\u001b[0mdeleteNode\u001b[0m\u001b[0;34m(\u001b[0m\u001b[0;36m4\u001b[0m\u001b[0;34m)\u001b[0m\u001b[0;34m\u001b[0m\u001b[0m\n",
      "\u001b[0;32m<ipython-input-2-6165031d1fa0>\u001b[0m in \u001b[0;36mappendToTail\u001b[0;34m(self, data)\u001b[0m\n\u001b[1;32m     11\u001b[0m         \u001b[0mnewNode\u001b[0m \u001b[0;34m=\u001b[0m \u001b[0mNode\u001b[0m\u001b[0;34m(\u001b[0m\u001b[0mdata\u001b[0m\u001b[0;34m)\u001b[0m\u001b[0;34m\u001b[0m\u001b[0m\n\u001b[1;32m     12\u001b[0m         \u001b[0mcurrHead\u001b[0m \u001b[0;34m=\u001b[0m \u001b[0mself\u001b[0m\u001b[0;34m.\u001b[0m\u001b[0mhead\u001b[0m\u001b[0;34m\u001b[0m\u001b[0m\n\u001b[0;32m---> 13\u001b[0;31m         \u001b[0;32mwhile\u001b[0m \u001b[0mcurrHead\u001b[0m\u001b[0;34m.\u001b[0m\u001b[0mnext\u001b[0m \u001b[0;32mis\u001b[0m \u001b[0;32mnot\u001b[0m \u001b[0;32mNone\u001b[0m\u001b[0;34m:\u001b[0m\u001b[0;34m\u001b[0m\u001b[0m\n\u001b[0m\u001b[1;32m     14\u001b[0m             \u001b[0mcurrHead\u001b[0m \u001b[0;34m=\u001b[0m \u001b[0mcurrHead\u001b[0m\u001b[0;34m.\u001b[0m\u001b[0mnext\u001b[0m\u001b[0;34m\u001b[0m\u001b[0m\n\u001b[1;32m     15\u001b[0m         \u001b[0mcurrHead\u001b[0m\u001b[0;34m.\u001b[0m\u001b[0msetNext\u001b[0m\u001b[0;34m(\u001b[0m\u001b[0mnewNode\u001b[0m\u001b[0;34m)\u001b[0m\u001b[0;34m\u001b[0m\u001b[0m\n",
      "\u001b[0;31mAttributeError\u001b[0m: 'NoneType' object has no attribute 'next'"
     ]
    }
   ],
   "source": [
    "node = Node(6)\n",
    "head = LinkedList()\n",
    "head.appendToTail(3)\n",
    "head.searchNode(3)\n",
    "head.deleteNode(4)"
   ]
  },
  {
   "cell_type": "code",
   "execution_count": null,
   "metadata": {
    "collapsed": false
   },
   "outputs": [],
   "source": []
  }
 ],
 "metadata": {
  "anaconda-cloud": {},
  "kernelspec": {
   "display_name": "Python [conda root]",
   "language": "python",
   "name": "conda-root-py"
  },
  "language_info": {
   "codemirror_mode": {
    "name": "ipython",
    "version": 3
   },
   "file_extension": ".py",
   "mimetype": "text/x-python",
   "name": "python",
   "nbconvert_exporter": "python",
   "pygments_lexer": "ipython3",
   "version": "3.5.2"
  }
 },
 "nbformat": 4,
 "nbformat_minor": 1
}
