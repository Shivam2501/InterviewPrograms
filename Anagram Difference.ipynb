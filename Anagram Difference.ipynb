{
 "cells": [
  {
   "cell_type": "code",
   "execution_count": 9,
   "metadata": {
    "collapsed": true
   },
   "outputs": [],
   "source": [
    "def anagramDifference(a, b):\n",
    "    result = []\n",
    "    for index in range(len(a)):\n",
    "        # check a[index] and b[index]\n",
    "        if len(a[index]) != len(b[index]):\n",
    "            result.append(-1)\n",
    "            continue\n",
    "        \n",
    "        # check if anagram\n",
    "        seenChars = {}\n",
    "        for char in a[index]:\n",
    "            if char in seenChars:\n",
    "                seenChars[char] += 1\n",
    "            else:\n",
    "                seenChars[char] = 1\n",
    "        \n",
    "        numberEdits = 0\n",
    "        for char in b[index]:\n",
    "            if char in seenChars:\n",
    "                seenChars[char] -= 1\n",
    "                if seenChars[char] == 0:\n",
    "                    del seenChars[char]\n",
    "            else:\n",
    "                numberEdits += 1\n",
    "        \n",
    "        result.append(numberEdits)\n",
    "    \n",
    "    return result"
   ]
  },
  {
   "cell_type": "code",
   "execution_count": 17,
   "metadata": {
    "collapsed": false
   },
   "outputs": [
    {
     "data": {
      "text/plain": [
       "[-1, 0, 1, 2, -1]"
      ]
     },
     "execution_count": 17,
     "metadata": {},
     "output_type": "execute_result"
    }
   ],
   "source": [
    "anagramDifference(['aa', 'ba', 'cd', 'abcda', 'aa'], ['a', 'ab', 'cf', 'eebaa', ''])"
   ]
  },
  {
   "cell_type": "code",
   "execution_count": null,
   "metadata": {
    "collapsed": true
   },
   "outputs": [],
   "source": []
  }
 ],
 "metadata": {
  "anaconda-cloud": {},
  "kernelspec": {
   "display_name": "Python [conda root]",
   "language": "python",
   "name": "conda-root-py"
  },
  "language_info": {
   "codemirror_mode": {
    "name": "ipython",
    "version": 3
   },
   "file_extension": ".py",
   "mimetype": "text/x-python",
   "name": "python",
   "nbconvert_exporter": "python",
   "pygments_lexer": "ipython3",
   "version": "3.5.2"
  }
 },
 "nbformat": 4,
 "nbformat_minor": 1
}
