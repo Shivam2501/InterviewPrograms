{
 "cells": [
  {
   "cell_type": "code",
   "execution_count": 9,
   "metadata": {
    "collapsed": true
   },
   "outputs": [],
   "source": [
    "class Node:\n",
    "    def __init__(self, data):\n",
    "        self.data = data\n",
    "        self.next = None\n",
    "    \n",
    "    def setNext(self, nextNode):\n",
    "        self.next = nextNode\n",
    "    \n",
    "    def __str__(self):\n",
    "        return str(self.data)"
   ]
  },
  {
   "cell_type": "code",
   "execution_count": 10,
   "metadata": {
    "collapsed": true
   },
   "outputs": [],
   "source": [
    "class LinkedList:\n",
    "    def __init__(self, head=None):\n",
    "        self.head = head\n",
    "        \n",
    "    def appendToTail(self, data):\n",
    "        newNode = Node(data)\n",
    "        if self.head is None:\n",
    "            self.head = newNode\n",
    "            return\n",
    "        \n",
    "        currHead = self.head\n",
    "        while currHead.next is not None:\n",
    "            currHead = currHead.next\n",
    "        currHead.setNext(newNode)"
   ]
  },
  {
   "cell_type": "code",
   "execution_count": 11,
   "metadata": {
    "collapsed": true
   },
   "outputs": [],
   "source": [
    "def findLeast(p, k):\n",
    "    # p = [3, 1, 5, 4, 2]\n",
    "    # k = 2\n",
    "    \n",
    "    # 1-2-3-4-5\n",
    "    if k == len(p):\n",
    "        return k\n",
    "    \n",
    "    result = -1\n",
    "    location = {}\n",
    "    size = {}\n",
    "    groups = []\n",
    "    \n",
    "    initialList = LinkedList()\n",
    "    for i in range(1, len(p)+1):\n",
    "        initialList.appendToTail(i)\n",
    "        location[i] = 0\n",
    "    \n",
    "    groups.append(initialList)\n",
    "    size[0] = len(p)\n",
    "    day = len(p)\n",
    "    \n",
    "    for i in reversed(p):\n",
    "        day -= 1\n",
    "        currLocation = location[i]\n",
    "        currList = groups[currLocation]\n",
    "        \n",
    "        # iterate through currList and break it\n",
    "        head = currList.head\n",
    "        lastNode = None\n",
    "        currLength = 0\n",
    "        found = False\n",
    "        while head is not None:\n",
    "            currLength += 1\n",
    "            if head.data == i:\n",
    "                topListLength = currLength - 1\n",
    "                bottomListLength = size[currLocation] - currLength\n",
    "                if topListLength == k or bottomListLength == k:\n",
    "                    return day\n",
    "                \n",
    "                if lastNode is not None:\n",
    "                    lastNode.next = None\n",
    "                    size[currLocation] = topListLength\n",
    "                \n",
    "                if head.next is not None:\n",
    "                    newList = LinkedList(head.next)\n",
    "                    groups.append(newList)\n",
    "                    size[len(groups)-1] = bottomListLength\n",
    "                    \n",
    "                found = True\n",
    "                \n",
    "            if found == True:\n",
    "                location[head.data] = len(groups)-1\n",
    "            lastNode = head\n",
    "            head = head.next\n",
    "            \n",
    "    return result"
   ]
  },
  {
   "cell_type": "code",
   "execution_count": 12,
   "metadata": {
    "collapsed": false
   },
   "outputs": [
    {
     "data": {
      "text/plain": [
       "7"
      ]
     },
     "execution_count": 12,
     "metadata": {},
     "output_type": "execute_result"
    }
   ],
   "source": [
    "findLeast([5, 7, 8, 3, 1, 2, 6, 4], 4)"
   ]
  },
  {
   "cell_type": "code",
   "execution_count": null,
   "metadata": {
    "collapsed": true
   },
   "outputs": [],
   "source": []
  }
 ],
 "metadata": {
  "anaconda-cloud": {},
  "kernelspec": {
   "display_name": "Python [conda root]",
   "language": "python",
   "name": "conda-root-py"
  },
  "language_info": {
   "codemirror_mode": {
    "name": "ipython",
    "version": 3
   },
   "file_extension": ".py",
   "mimetype": "text/x-python",
   "name": "python",
   "nbconvert_exporter": "python",
   "pygments_lexer": "ipython3",
   "version": "3.5.2"
  }
 },
 "nbformat": 4,
 "nbformat_minor": 1
}
