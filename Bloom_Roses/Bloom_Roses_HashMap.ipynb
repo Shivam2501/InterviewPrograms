{
 "cells": [
  {
   "cell_type": "code",
   "execution_count": 16,
   "metadata": {
    "collapsed": true
   },
   "outputs": [],
   "source": [
    "def findLeast(p, k):\n",
    "    # p = [3, 1, 5, 4, 2]\n",
    "    # k = 2\n",
    "    \n",
    "    # 1-2-3-4-5\n",
    "    if k == len(p):\n",
    "        return k\n",
    "    \n",
    "    startIndex = {}\n",
    "    endIndex = {}\n",
    "    \n",
    "    day = 0\n",
    "    result = -1 \n",
    "    for i in p:\n",
    "        start = i\n",
    "        end = i\n",
    "        \n",
    "        if i-1 in startIndex:\n",
    "            if endIndex[i-1] - startIndex[i-1] + 1 == k:\n",
    "                result = day\n",
    "            start = startIndex[i-1]\n",
    "        if i+1 in endIndex:\n",
    "            if endIndex[i+1] - startIndex[i+1] + 1 == k:\n",
    "                result = day\n",
    "            end = endIndex[i+1]\n",
    "            \n",
    "        startIndex[start] = start\n",
    "        endIndex[start] = end\n",
    "        \n",
    "        startIndex[end] = start\n",
    "        endIndex[end] = end\n",
    "        \n",
    "        if end - start + 1 == k:\n",
    "            result = day + 1\n",
    "            \n",
    "        day += 1\n",
    "        \n",
    "    return result"
   ]
  },
  {
   "cell_type": "code",
   "execution_count": 17,
   "metadata": {
    "collapsed": false
   },
   "outputs": [
    {
     "data": {
      "text/plain": [
       "7"
      ]
     },
     "execution_count": 17,
     "metadata": {},
     "output_type": "execute_result"
    }
   ],
   "source": [
    "findLeast([8, 9, 4, 1, 5, 7, 2, 3, 6], 2)"
   ]
  },
  {
   "cell_type": "code",
   "execution_count": null,
   "metadata": {
    "collapsed": true
   },
   "outputs": [],
   "source": []
  }
 ],
 "metadata": {
  "anaconda-cloud": {},
  "kernelspec": {
   "display_name": "Python [conda root]",
   "language": "python",
   "name": "conda-root-py"
  },
  "language_info": {
   "codemirror_mode": {
    "name": "ipython",
    "version": 3
   },
   "file_extension": ".py",
   "mimetype": "text/x-python",
   "name": "python",
   "nbconvert_exporter": "python",
   "pygments_lexer": "ipython3",
   "version": "3.5.2"
  }
 },
 "nbformat": 4,
 "nbformat_minor": 1
}
