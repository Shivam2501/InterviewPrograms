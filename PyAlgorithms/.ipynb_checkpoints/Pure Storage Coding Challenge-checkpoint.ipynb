{
 "cells": [
  {
   "cell_type": "code",
   "execution_count": 2,
   "metadata": {
    "collapsed": false
   },
   "outputs": [
    {
     "name": "stdout",
     "output_type": "stream",
     "text": [
      "13\n"
     ]
    }
   ],
   "source": [
    "data = 'hellolle'\n",
    "count = len(data)\n",
    "\n",
    "# check odd palindromes\n",
    "for pivot in range(len(data)):\n",
    "    #check for even palindromes\n",
    "    offset = 1\n",
    "    #check left and right boundary\n",
    "    while pivot-offset >=0 and pivot+offset < len(data) and data[pivot-offset] == data[pivot+offset]:\n",
    "        count += 1 \n",
    "        offset += 1\n",
    "    while pivot-offset >=0 and pivot+offset <= len(data) and data[pivot-offset] == data[pivot+offset-1]:\n",
    "        count += 1\n",
    "        offset += 1\n",
    "print(count)"
   ]
  },
  {
   "cell_type": "code",
   "execution_count": 3,
   "metadata": {
    "collapsed": false
   },
   "outputs": [
    {
     "name": "stdout",
     "output_type": "stream",
     "text": [
      "0\n"
     ]
    }
   ],
   "source": [
    "strings = [\"ACQUIRE 364\", \"ACQUIRE 84\", \"RELEASE 84\", \"RELEASE 364\"]\n",
    "\n",
    "stack = []\n",
    "result = 0\n",
    "for index, lock in enumerate(strings):\n",
    "    lock = lock.split()\n",
    "    if lock[0] == \"ACQUIRE\":\n",
    "        stack.append(lock[1])\n",
    "    if lock[0] == \"RELEASE\":\n",
    "        if not lock[1] == stack.pop():\n",
    "            result = index\n",
    "if len(stack):\n",
    "    result = len(strings)+1\n",
    "print(result)"
   ]
  },
  {
   "cell_type": "code",
   "execution_count": 4,
   "metadata": {
    "collapsed": true
   },
   "outputs": [],
   "source": [
    "def sorted_search(elements, target):\n",
    "    if not elements or len(elements) <= 0:\n",
    "        return -1\n",
    "    \n",
    "    left = 0\n",
    "    right = len(elements) - 1\n",
    "    \n",
    "    while left<right:\n",
    "        middle = int((left+right+1)/2)\n",
    "        \n",
    "        if elements[middle] > target:\n",
    "            right = middle - 1\n",
    "        else:\n",
    "            left = middle + 1\n",
    "    \n",
    "    if elements[right] == target:\n",
    "        return right\n",
    "    return -1"
   ]
  },
  {
   "cell_type": "code",
   "execution_count": 5,
   "metadata": {
    "collapsed": false
   },
   "outputs": [
    {
     "data": {
      "text/plain": [
       "3"
      ]
     },
     "execution_count": 5,
     "metadata": {},
     "output_type": "execute_result"
    }
   ],
   "source": [
    "arr = [2, 3, 4, 5, 6]\n",
    "sorted_search(arr, 5)"
   ]
  },
  {
   "cell_type": "code",
   "execution_count": null,
   "metadata": {
    "collapsed": true
   },
   "outputs": [],
   "source": []
  }
 ],
 "metadata": {
  "anaconda-cloud": {},
  "kernelspec": {
   "display_name": "Python [conda root]",
   "language": "python",
   "name": "conda-root-py"
  },
  "language_info": {
   "codemirror_mode": {
    "name": "ipython",
    "version": 3
   },
   "file_extension": ".py",
   "mimetype": "text/x-python",
   "name": "python",
   "nbconvert_exporter": "python",
   "pygments_lexer": "ipython3",
   "version": "3.5.2"
  }
 },
 "nbformat": 4,
 "nbformat_minor": 1
}
