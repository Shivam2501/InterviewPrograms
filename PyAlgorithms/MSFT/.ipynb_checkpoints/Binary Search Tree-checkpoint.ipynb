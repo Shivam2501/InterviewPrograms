{
 "cells": [
  {
   "cell_type": "code",
   "execution_count": 7,
   "metadata": {
    "collapsed": true
   },
   "outputs": [],
   "source": [
    "class Node:\n",
    "    \n",
    "    def __init__(self, data):\n",
    "        self.data = data\n",
    "        self.count = 1\n",
    "        self.rightChild = None\n",
    "        self.leftChild = None"
   ]
  },
  {
   "cell_type": "code",
   "execution_count": 124,
   "metadata": {
    "collapsed": false,
    "scrolled": true
   },
   "outputs": [],
   "source": [
    "class BinarySearchTree:\n",
    "    \n",
    "    def __init__(self):\n",
    "        self.head = None\n",
    "            \n",
    "    def addNode(self, data):\n",
    "        if self.head is None:\n",
    "            self.head = Node(data)\n",
    "            return\n",
    "        \n",
    "        currNode = self.head\n",
    "        while currNode is not None:\n",
    "            if currNode.data > data:\n",
    "                if currNode.leftChild is None:\n",
    "                    currNode.leftChild = Node(data)\n",
    "                    return\n",
    "                currNode = currNode.leftChild\n",
    "            elif currNode.data < data:\n",
    "                if currNode.rightChild is None:\n",
    "                    currNode.rightChild = Node(data)\n",
    "                    return\n",
    "                currNode = currNode.rightChild\n",
    "            else:\n",
    "                currNode.count += 1\n",
    "                return\n",
    "    \n",
    "    def levelOrder(self):\n",
    "        queue = []\n",
    "        queue.append(self.head)\n",
    "        levelCounter = 0\n",
    "        current = 1\n",
    "        while len(queue):\n",
    "            currNode = queue.pop(0)\n",
    "            current -= 1\n",
    "            if currNode is not None:\n",
    "                print(currNode.data, end = '')\n",
    "                if currNode.leftChild is not None:\n",
    "                    #print(currNode.leftChild.data)\n",
    "                    queue.append(currNode.leftChild)\n",
    "                    levelCounter += 1\n",
    "                if currNode.rightChild is not None:\n",
    "                    #print(currNode.rightChild.data)\n",
    "                    queue.append(currNode.rightChild)\n",
    "                    levelCounter += 1\n",
    "            if current == 0:\n",
    "                print(\"\")\n",
    "                current = levelCounter\n",
    "                levelCounter = 0"
   ]
  },
  {
   "cell_type": "code",
   "execution_count": 126,
   "metadata": {
    "collapsed": false
   },
   "outputs": [],
   "source": [
    "tree = BinarySearchTree()\n",
    "tree.addNode(2)\n",
    "tree.addNode(1)\n",
    "tree.addNode(3)\n",
    "tree.addNode(5)"
   ]
  },
  {
   "cell_type": "code",
   "execution_count": 127,
   "metadata": {
    "collapsed": false
   },
   "outputs": [
    {
     "name": "stdout",
     "output_type": "stream",
     "text": [
      "2\n",
      "13\n",
      "5\n"
     ]
    }
   ],
   "source": [
    "tree.levelOrder()"
   ]
  },
  {
   "cell_type": "code",
   "execution_count": null,
   "metadata": {
    "collapsed": true
   },
   "outputs": [],
   "source": []
  }
 ],
 "metadata": {
  "kernelspec": {
   "display_name": "Python [conda root]",
   "language": "python",
   "name": "conda-root-py"
  },
  "language_info": {
   "codemirror_mode": {
    "name": "ipython",
    "version": 3
   },
   "file_extension": ".py",
   "mimetype": "text/x-python",
   "name": "python",
   "nbconvert_exporter": "python",
   "pygments_lexer": "ipython3",
   "version": "3.5.2"
  }
 },
 "nbformat": 4,
 "nbformat_minor": 1
}
