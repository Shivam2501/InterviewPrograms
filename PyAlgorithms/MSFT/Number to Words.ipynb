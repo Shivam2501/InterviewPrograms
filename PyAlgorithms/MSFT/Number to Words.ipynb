{
 "cells": [
  {
   "cell_type": "code",
   "execution_count": 14,
   "metadata": {
    "collapsed": false
   },
   "outputs": [
    {
     "name": "stdout",
     "output_type": "stream",
     "text": [
      "four thousand nine hundred and sixty two  \n"
     ]
    }
   ],
   "source": [
    "#Write a function to convert a number to a string like how you would see on a check?\n",
    "units = [\n",
    "        \"\", \"one\", \"two\", \"three\", \"four\", \"five\", \"six\", \"seven\", \"eight\",\n",
    "        \"nine\", \"ten\", \"eleven\", \"twelve\", \"thirteen\", \"fourteen\", \"fifteen\",\n",
    "        \"sixteen\", \"seventeen\", \"eighteen\", \"nineteen\",\n",
    "      ]\n",
    "\n",
    "tenth = [\"\", \"\", \"twenty\", \"thirty\", \"forty\", \"fifty\", \"sixty\", \"seventy\", \"eighty\", \"ninety\"]\n",
    "\n",
    "scales = [\"\", \"thousand\", \"million\", \"billion\", \"trillion\"]\n",
    "\n",
    "def hundred(amount):\n",
    "    output = \"\"\n",
    "    tens = amount%100\n",
    "    hundred = int(amount/100)\n",
    "\n",
    "    if hundred != 0:\n",
    "        output += units[hundred] + \" hundred\"\n",
    "        if tens != 0:\n",
    "            output += \" and \"\n",
    "        \n",
    "    if tens != 0:\n",
    "        if 1<= tens < 20:\n",
    "            output += units[tens]\n",
    "        else:\n",
    "            output = output + tenth[(int)(tens/10)] + \" \" + units[tens%10]\n",
    " \n",
    "    return output\n",
    "        \n",
    "def numtostr(amount):\n",
    "    if amount == 0:\n",
    "        print(\"zero\")\n",
    "        return\n",
    "    \n",
    "    output = \"\"\n",
    "    groups = 0\n",
    "    while(amount):\n",
    "        curr = str(amount)[-3:]\n",
    "        output = hundred(int(curr)) + \" \" + scales[groups] + \" \" + output\n",
    "        groups += 1\n",
    "        amount = (int)(amount/1000)\n",
    "        \n",
    "    print(output)\n",
    "numtostr(4962)"
   ]
  },
  {
   "cell_type": "code",
   "execution_count": null,
   "metadata": {
    "collapsed": true
   },
   "outputs": [],
   "source": []
  }
 ],
 "metadata": {
  "anaconda-cloud": {},
  "kernelspec": {
   "display_name": "Python [conda root]",
   "language": "python",
   "name": "conda-root-py"
  },
  "language_info": {
   "codemirror_mode": {
    "name": "ipython",
    "version": 3
   },
   "file_extension": ".py",
   "mimetype": "text/x-python",
   "name": "python",
   "nbconvert_exporter": "python",
   "pygments_lexer": "ipython3",
   "version": "3.5.2"
  }
 },
 "nbformat": 4,
 "nbformat_minor": 1
}
