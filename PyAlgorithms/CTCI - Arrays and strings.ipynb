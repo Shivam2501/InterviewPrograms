{
 "cells": [
  {
   "cell_type": "markdown",
   "metadata": {},
   "source": [
    "# Arrays and strings"
   ]
  },
  {
   "cell_type": "code",
   "execution_count": 1,
   "metadata": {
    "collapsed": true
   },
   "outputs": [],
   "source": [
    "import numpy as np"
   ]
  },
  {
   "cell_type": "code",
   "execution_count": 2,
   "metadata": {
    "collapsed": false
   },
   "outputs": [
    {
     "name": "stdout",
     "output_type": "stream",
     "text": [
      "test\n",
      "Method 1: False\n",
      "Method 2: Not Unique\n"
     ]
    }
   ],
   "source": [
    "#Is unique\n",
    "\n",
    "inputString = input()\n",
    "\n",
    "print(\"Method 1:\",len(inputString) == len(set(inputString.lower())))\n",
    "\n",
    "flag = 0\n",
    "dict = {} #dict = []\n",
    "for i in inputString:\n",
    "    i = i.lower()\n",
    "    if i in dict:\n",
    "        flag = 1\n",
    "    else:\n",
    "        dict[i] = True #dict.append(i)\n",
    "\n",
    "if flag:\n",
    "    print(\"Method 2: Not Unique\")\n",
    "else:\n",
    "    print(\"Method 2: Unique\")"
   ]
  },
  {
   "cell_type": "code",
   "execution_count": 2,
   "metadata": {
    "collapsed": false
   },
   "outputs": [
    {
     "name": "stdout",
     "output_type": "stream",
     "text": [
      "shi\n",
      "hsi\n",
      "True\n"
     ]
    }
   ],
   "source": [
    "#check permutation\n",
    "\n",
    "str1 = input()\n",
    "str2 = input()\n",
    "\n",
    "print(sorted(str1.lower()) == sorted(str2.lower()))"
   ]
  },
  {
   "cell_type": "code",
   "execution_count": 3,
   "metadata": {
    "collapsed": false
   },
   "outputs": [
    {
     "data": {
      "text/plain": [
       "'shi'"
      ]
     },
     "execution_count": 3,
     "metadata": {},
     "output_type": "execute_result"
    }
   ],
   "source": [
    "#URLify\n",
    "str1.replace(' ', '%20')"
   ]
  },
  {
   "cell_type": "code",
   "execution_count": 3,
   "metadata": {
    "collapsed": false
   },
   "outputs": [
    {
     "name": "stdout",
     "output_type": "stream",
     "text": [
      "shivam\n",
      "False\n"
     ]
    }
   ],
   "source": [
    "#palindrome permutation\n",
    "inputString = input()\n",
    "inputString = inputString.replace(' ', '')\n",
    "\n",
    "#parse the string and create a character counter map\n",
    "dict = {}\n",
    "count = 0\n",
    "for i in inputString:\n",
    "    if i in dict:\n",
    "        dict[i] += 1\n",
    "    else:\n",
    "        dict[i] = 1\n",
    "        \n",
    "    if dict[i] % 2:\n",
    "        count += 1\n",
    "    else:\n",
    "        count -= 1\n",
    "        \n",
    "print(count<=1)"
   ]
  },
  {
   "cell_type": "code",
   "execution_count": 4,
   "metadata": {
    "collapsed": false
   },
   "outputs": [
    {
     "name": "stdout",
     "output_type": "stream",
     "text": [
      "3\n",
      "4\n"
     ]
    }
   ],
   "source": [
    "#one away\n",
    "str1 = input()\n",
    "str2 = input()\n",
    "\n",
    "if len(str1) == len(str2):\n",
    "    #check if a char can be replaced\n",
    "    count = 0\n",
    "    for i in range(len(str1)):\n",
    "        if not str1[i] == str2[i]:\n",
    "            count += 1\n",
    "        if count>1:\n",
    "            print(\"Can't be replaced\")\n",
    "            break\n",
    "else:\n",
    "    if abs(len(str1) - len(str2)):\n",
    "        #check identical\n",
    "        if not len(str1) - len(str2):\n",
    "            temp = str1\n",
    "            str1 = str2\n",
    "            str2 = str1\n",
    "            \n",
    "        count = 0\n",
    "        j = 0\n",
    "        for i in range(len(str1)):\n",
    "            if not str1[i] == str2[j]:\n",
    "                count += 1\n",
    "            else:\n",
    "                j += 1\n",
    "            if count == 0 and j == len(str2):\n",
    "                break\n",
    "            if count>1:\n",
    "                print(\"Can't be inserted/removed\")\n",
    "                break\n",
    "    else:\n",
    "        print(\"Can't be inserted/removed\")"
   ]
  },
  {
   "cell_type": "code",
   "execution_count": 5,
   "metadata": {
    "collapsed": false
   },
   "outputs": [
    {
     "name": "stdout",
     "output_type": "stream",
     "text": [
      "shivam\n",
      "shivam\n"
     ]
    }
   ],
   "source": [
    "#string compression\n",
    "inputString = input()\n",
    "\n",
    "if inputString:\n",
    "    newstring = inputString[0]\n",
    "    prev = inputString[0]\n",
    "count = 1\n",
    "for i in inputString[1:]:\n",
    "    if i == prev:\n",
    "        count += 1\n",
    "    else:\n",
    "        newstring += str(count)\n",
    "        newstring += i\n",
    "        count = 1\n",
    "        prev = i\n",
    "\n",
    "newstring += str(count)\n",
    "print(newstring) if len(newstring) < len(inputString) else print(inputString)"
   ]
  },
  {
   "cell_type": "code",
   "execution_count": 6,
   "metadata": {
    "collapsed": false
   },
   "outputs": [
    {
     "name": "stdout",
     "output_type": "stream",
     "text": [
      "3\n",
      "3\n",
      "1\n",
      "2\n",
      "3\n",
      "4\n",
      "5\n",
      "6\n",
      "7\n",
      "8\n",
      "[[3 1 2]\n",
      " [3 4 5]\n",
      " [6 7 8]]\n",
      "[[6 3 3]\n",
      " [7 4 1]\n",
      " [8 5 2]]\n"
     ]
    }
   ],
   "source": [
    "#rotate matrix\n",
    "numberRows = int(input())\n",
    "matrix = np.zeros((numberRows, numberRows), dtype=np.int32)\n",
    "\n",
    "for row in range(numberRows):\n",
    "    for column in range(numberRows):\n",
    "        matrix[row, column] = int(input())\n",
    "        \n",
    "print(matrix)\n",
    "\n",
    "#initialize the reversed matrix\n",
    "reversedMatrix = np.zeros((numberRows, numberRows), dtype=np.int32)\n",
    "\n",
    "for row in range(numberRows):\n",
    "    reversedMatrix[:, numberRows - row - 1] = matrix[row, :]\n",
    "        \n",
    "print(reversedMatrix)\n",
    "\n",
    "#rotate layer by Layer if we can't create a new matrix\n",
    "    "
   ]
  }
 ],
 "metadata": {
  "anaconda-cloud": {},
  "kernelspec": {
   "display_name": "Python [conda root]",
   "language": "python",
   "name": "conda-root-py"
  },
  "language_info": {
   "codemirror_mode": {
    "name": "ipython",
    "version": 3
   },
   "file_extension": ".py",
   "mimetype": "text/x-python",
   "name": "python",
   "nbconvert_exporter": "python",
   "pygments_lexer": "ipython3",
   "version": "3.5.2"
  }
 },
 "nbformat": 4,
 "nbformat_minor": 1
}
