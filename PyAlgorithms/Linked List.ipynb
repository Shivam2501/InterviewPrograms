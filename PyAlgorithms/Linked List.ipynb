{
 "cells": [
  {
   "cell_type": "code",
   "execution_count": 13,
   "metadata": {
    "collapsed": true
   },
   "outputs": [],
   "source": [
    "class Node:\n",
    "    def __init__(self, data):\n",
    "        self.data = data\n",
    "        self.next = None\n",
    "    \n",
    "    def setNext(self, nextNode):\n",
    "        self.next = nextNode\n",
    "    \n",
    "    def __str__(self):\n",
    "        return str(self.data)\n",
    "    "
   ]
  },
  {
   "cell_type": "code",
   "execution_count": 64,
   "metadata": {
    "collapsed": false
   },
   "outputs": [],
   "source": [
    "class LinkedList:\n",
    "    def __init__(self, head=None):\n",
    "        self.head = head\n",
    "    \n",
    "    def appendToHead(self, data):\n",
    "        newNode = Node(data)\n",
    "        newNode.setNext(self.head)\n",
    "        self.head = newNode\n",
    "        \n",
    "    def appendToTail(self, data):\n",
    "        newNode = Node(data)\n",
    "        currHead = self.head\n",
    "        while currHead.next is not None:\n",
    "            currHead = currHead.next\n",
    "        currHead.setNext(newNode)\n",
    "        \n",
    "    def searchNode(self, data):\n",
    "        flag = 0\n",
    "        currHead = self.head\n",
    "        while currHead is not None:\n",
    "            if currHead.data == data:\n",
    "                flag = 1\n",
    "                break\n",
    "            else:\n",
    "                currHead = currHead.next\n",
    "        if flag:\n",
    "            print(\"Node is Present\")\n",
    "        else:\n",
    "            print(\"Node is not Present\")\n",
    "            \n",
    "    def deleteNode(self, data):\n",
    "        currHead = self.head\n",
    "        if currHead is None:\n",
    "            print(\"List is Empty\")\n",
    "            return\n",
    "        else:\n",
    "            previous = None\n",
    "            while currHead is not None:\n",
    "                if currHead.data == data:\n",
    "                    if currHead == self.head:\n",
    "                        self.head.setNext(currHead.next)\n",
    "                        print(\"Element Removed from Head\")\n",
    "                        break\n",
    "                    else:\n",
    "                        previous.setNext(currHead.next)\n",
    "                        print(\"Element Removed\")\n",
    "                        break\n",
    "                else:\n",
    "                    previous = currHead\n",
    "                    currHead = currHead.next\n",
    "                    "
   ]
  },
  {
   "cell_type": "code",
   "execution_count": 67,
   "metadata": {
    "collapsed": false
   },
   "outputs": [
    {
     "name": "stdout",
     "output_type": "stream",
     "text": [
      "Node is Present\n",
      "Element Removed from Head\n"
     ]
    }
   ],
   "source": [
    "node = Node(6)\n",
    "head = LinkedList(node)\n",
    "head.appendToHead(4)\n",
    "head.appendToTail(3)\n",
    "head.searchNode(3)\n",
    "head.deleteNode(4)"
   ]
  },
  {
   "cell_type": "code",
   "execution_count": null,
   "metadata": {
    "collapsed": false
   },
   "outputs": [],
   "source": []
  }
 ],
 "metadata": {
  "anaconda-cloud": {},
  "kernelspec": {
   "display_name": "Python [conda root]",
   "language": "python",
   "name": "conda-root-py"
  },
  "language_info": {
   "codemirror_mode": {
    "name": "ipython",
    "version": 3
   },
   "file_extension": ".py",
   "mimetype": "text/x-python",
   "name": "python",
   "nbconvert_exporter": "python",
   "pygments_lexer": "ipython3",
   "version": "3.5.2"
  }
 },
 "nbformat": 4,
 "nbformat_minor": 1
}
