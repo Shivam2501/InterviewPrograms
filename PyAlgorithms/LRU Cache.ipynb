{
 "cells": [
  {
   "cell_type": "code",
   "execution_count": 1,
   "metadata": {
    "collapsed": true
   },
   "outputs": [],
   "source": [
    "class Node:\n",
    "    def __init__(self, data):\n",
    "        self.data = data\n",
    "        self.next = None\n",
    "        self.prev = None\n",
    "    \n",
    "    def __str__(self):\n",
    "        return str(self.data)"
   ]
  },
  {
   "cell_type": "code",
   "execution_count": 2,
   "metadata": {
    "collapsed": true
   },
   "outputs": [],
   "source": [
    "class DoublyLinkedList:\n",
    "    def __init__(self, head=None):\n",
    "        self.head = head\n",
    "        self.tail = head\n",
    "    \n",
    "    def appendToHead(self, data):\n",
    "        newNode = Node(data)\n",
    "        newNode.next = self.head\n",
    "        newNode.prev = None\n",
    "        if self.head == None:\n",
    "            self.tail = newNode\n",
    "        else:\n",
    "            self.head.prev = newNode\n",
    "        self.head = newNode\n",
    "        return newNode\n",
    "        \n",
    "    def moveFront(self, node):\n",
    "        self.deleteNode(node)\n",
    "        self.appendToHead(node)\n",
    "            \n",
    "    def deleteNode(self, node):\n",
    "        if node == self.head:\n",
    "            nextNode = node.next\n",
    "            nextNode.prev = None\n",
    "            self.head = nextNode\n",
    "        elif node == self.tail:\n",
    "            prevNode = node.prev\n",
    "            prevNode.next = None\n",
    "            self.tail = prevNode\n",
    "        else:\n",
    "            prevNode = node.prev\n",
    "            nextNode = node.next\n",
    "            prevNode.next = nextNode\n",
    "            nextNode.prev = prevNode\n",
    "            \n",
    "    def deleteTail(self):\n",
    "        temp = self.tail\n",
    "        self.deleteNode(self.tail)\n",
    "        return temp"
   ]
  },
  {
   "cell_type": "code",
   "execution_count": 3,
   "metadata": {
    "collapsed": true
   },
   "outputs": [],
   "source": [
    "class LRUCache:\n",
    "    queue = {}\n",
    "    count = 0\n",
    "    mem = DoublyLinkedList()\n",
    "    \n",
    "    def __init__(self, size):\n",
    "        self.size = size\n",
    "    \n",
    "    def add(self, item):\n",
    "        if item in self.queue:\n",
    "            self.mem.moveFront(self.queue[item])\n",
    "        else:\n",
    "            if self.count == self.size:\n",
    "                self.count -= 1\n",
    "                temp = self.mem.deleteTail()\n",
    "                del self.queue[temp.data]\n",
    "            newNode = self.mem.appendToHead(item)\n",
    "            self.queue[item] = newNode\n",
    "            self.count += 1"
   ]
  },
  {
   "cell_type": "code",
   "execution_count": 4,
   "metadata": {
    "collapsed": false
   },
   "outputs": [],
   "source": [
    "cache = LRUCache(4)"
   ]
  },
  {
   "cell_type": "code",
   "execution_count": 5,
   "metadata": {
    "collapsed": false
   },
   "outputs": [
    {
     "name": "stdout",
     "output_type": "stream",
     "text": [
      "dict_keys([1, 10, 4, 5])\n"
     ]
    }
   ],
   "source": [
    "cache.add(1)\n",
    "cache.add(2)\n",
    "cache.add(3)\n",
    "cache.add(4)\n",
    "cache.add(5)\n",
    "cache.add(10)\n",
    "cache.add(1)\n",
    "print(cache.queue.keys())"
   ]
  },
  {
   "cell_type": "code",
   "execution_count": null,
   "metadata": {
    "collapsed": true
   },
   "outputs": [],
   "source": []
  }
 ],
 "metadata": {
  "anaconda-cloud": {},
  "kernelspec": {
   "display_name": "Python [conda root]",
   "language": "python",
   "name": "conda-root-py"
  },
  "language_info": {
   "codemirror_mode": {
    "name": "ipython",
    "version": 3
   },
   "file_extension": ".py",
   "mimetype": "text/x-python",
   "name": "python",
   "nbconvert_exporter": "python",
   "pygments_lexer": "ipython3",
   "version": "3.5.2"
  }
 },
 "nbformat": 4,
 "nbformat_minor": 1
}
