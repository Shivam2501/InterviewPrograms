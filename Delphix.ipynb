{
 "cells": [
  {
   "cell_type": "code",
   "execution_count": 6,
   "metadata": {
    "collapsed": false
   },
   "outputs": [],
   "source": [
    "import requests, json\n",
    "from datetime import datetime, timedelta\n",
    "apikey = '9Jz6tLIeJ0yY9vjbEUWaH9fsXA930J9hspPchute'\n",
    "url = 'https://api.nasa.gov/planetary/earth/assets?lon={}&lat={}&begin={}&api_key=' + apikey"
   ]
  },
  {
   "cell_type": "code",
   "execution_count": 35,
   "metadata": {
    "collapsed": false
   },
   "outputs": [],
   "source": [
    "'''\n",
    "flyby:\n",
    "Input: Coordinates of the location\n",
    "Output: Estimated Time a satellite image will be taken\n",
    "Return: None\n",
    "'''\n",
    "def flyby(latitude, longitude):\n",
    "    begin_date = '2014-02-01'\n",
    "    response = requests.get(url.format(longitude,latitude,begin_date))\n",
    "    if response.ok: #if status code = 200 (Success)\n",
    "        data = response.json()\n",
    "        if data['count'] == 0:\n",
    "            print(\"Only EARTH coordinates accepted!\")\n",
    "        else:\n",
    "            avg_time = 0\n",
    "            sorted_data = sorted(data['results'], key=lambda k: k['date'])\n",
    "            print(sorted_data)\n",
    "            for i in range(0, int(data['count'])-1):\n",
    "                diff = datetime.strptime(sorted_data[i+1]['date'], '%Y-%m-%dT%H:%M:%S') - datetime.strptime(sorted_data[i]['date'], '%Y-%m-%dT%H:%M:%S')\n",
    "                avg_time += diff.total_seconds()\n",
    "                print(timedelta(seconds=diff.total_seconds()))\n",
    "            last_date = sorted_data[-1]['date']\n",
    "            avg_time /= int(data['count']) - 1\n",
    "            next_date = timedelta(seconds=avg_time) + datetime.strptime(last_date, '%Y-%m-%dT%H:%M:%S')\n",
    "            print(\"Next time: {}\".format(next_date))\n",
    "    else:\n",
    "        print(\"Ughh! Error Connecting to the Satellite\")"
   ]
  },
  {
   "cell_type": "code",
   "execution_count": 36,
   "metadata": {
    "collapsed": false
   },
   "outputs": [
    {
     "name": "stdout",
     "output_type": "stream",
     "text": [
      "[{'date': '2014-02-08T16:04:44', 'id': 'LC8_L1T_TOA/LC80180302014039LGN00'}, {'date': '2014-02-17T15:58:26', 'id': 'LC8_L1T_TOA/LC80170302014048LGN00'}, {'date': '2014-02-24T16:04:31', 'id': 'LC8_L1T_TOA/LC80180302014055LGN00'}, {'date': '2014-03-05T15:58:11', 'id': 'LC8_L1T_TOA/LC80170302014064LGN00'}, {'date': '2014-03-21T15:58:01', 'id': 'LC8_L1T_TOA/LC80170302014080LGN00'}, {'date': '2014-04-06T15:57:46', 'id': 'LC8_L1T_TOA/LC80170302014096LGN00'}, {'date': '2014-04-13T16:03:48', 'id': 'LC8_L1T_TOA/LC80180302014103LGN00'}, {'date': '2014-05-08T15:57:13', 'id': 'LC8_L1T_TOA/LC80170302014128LGN00'}, {'date': '2014-05-24T15:57:07', 'id': 'LC8_L1T_TOA/LC80170302014144LGN00'}, {'date': '2014-05-31T16:03:23', 'id': 'LC8_L1T_TOA/LC80180302014151LGN00'}, {'date': '2014-06-09T15:57:17', 'id': 'LC8_L1T_TOA/LC80170302014160LGN00'}, {'date': '2014-06-16T16:03:30', 'id': 'LC8_L1T_TOA/LC80180302014167LGN00'}, {'date': '2014-07-02T16:03:34', 'id': 'LC8_L1T_TOA/LC80180302014183LGN00'}, {'date': '2014-07-11T15:57:28', 'id': 'LC8_L1T_TOA/LC80170302014192LGN00'}, {'date': '2014-07-18T16:03:40', 'id': 'LC8_L1T_TOA/LC80180302014199LGN00'}, {'date': '2014-07-27T15:57:31', 'id': 'LC8_L1T_TOA/LC80170302014208LGN00'}, {'date': '2014-08-03T16:03:47', 'id': 'LC8_L1T_TOA/LC80180302014215LGN00'}, {'date': '2014-08-12T15:57:40', 'id': 'LC8_L1T_TOA/LC80170302014224LGN00'}, {'date': '2014-08-19T16:03:52', 'id': 'LC8_L1T_TOA/LC80180302014231LGN00'}, {'date': '2014-08-28T15:57:41', 'id': 'LC8_L1T_TOA/LC80170302014240LGN00'}, {'date': '2014-09-04T16:03:55', 'id': 'LC8_L1T_TOA/LC80180302014247LGN00'}, {'date': '2014-09-20T16:03:54', 'id': 'LC8_L1T_TOA/LC80180302014263LGN00'}, {'date': '2014-09-29T15:57:45', 'id': 'LC8_L1T_TOA/LC80170302014272LGN00'}, {'date': '2014-10-06T16:03:59', 'id': 'LC8_L1T_TOA/LC80180302014279LGN00'}, {'date': '2014-10-22T16:04:01', 'id': 'LC8_L1T_TOA/LC80180302014295LGN00'}, {'date': '2014-11-16T15:57:49', 'id': 'LC8_L1T_TOA/LC80170302014320LGN00'}, {'date': '2014-12-02T15:57:48', 'id': 'LC8_L1T_TOA/LC80170302014336LGN00'}, {'date': '2015-01-10T16:03:50', 'id': 'LC8_L1T_TOA/LC80180302015010LGN00'}, {'date': '2015-01-26T16:03:45', 'id': 'LC8_L1T_TOA/LC80180302015026LGN00'}, {'date': '2015-02-20T15:57:25', 'id': 'LC8_L1T_TOA/LC80170302015051LGN00'}, {'date': '2015-02-27T16:03:34', 'id': 'LC8_L1T_TOA/LC80180302015058LGN00'}, {'date': '2015-03-08T15:57:17', 'id': 'LC8_L1T_TOA/LC80170302015067LGN00'}, {'date': '2015-03-24T15:57:08', 'id': 'LC8_L1T_TOA/LC80170302015083LGN00'}, {'date': '2015-03-31T16:03:13', 'id': 'LC8_L1T_TOA/LC80180302015090LGN00'}, {'date': '2015-04-09T15:56:59', 'id': 'LC8_L1T_TOA/LC80170302015099LGN00'}, {'date': '2015-04-16T16:03:10', 'id': 'LC8_L1T_TOA/LC80180302015106LGN00'}, {'date': '2015-04-25T15:56:56', 'id': 'LC8_L1T_TOA/LC80170302015115LGN00'}, {'date': '2015-05-02T16:03:00', 'id': 'LC8_L1T_TOA/LC80180302015122LGN00'}, {'date': '2015-05-11T15:56:40', 'id': 'LC8_L1T_TOA/LC80170302015131LGN00'}, {'date': '2015-05-18T16:02:49', 'id': 'LC8_L1T_TOA/LC80180302015138LGN00'}, {'date': '2015-05-27T15:56:41', 'id': 'LC8_L1T_TOA/LC80170302015147LGN00'}, {'date': '2015-06-03T16:02:57', 'id': 'LC8_L1T_TOA/LC80180302015154LGN00'}, {'date': '2015-06-12T15:56:52', 'id': 'LC8_L1T_TOA/LC80170302015163LGN00'}, {'date': '2015-06-19T16:03:06', 'id': 'LC8_L1T_TOA/LC80180302015170LGN00'}, {'date': '2015-07-05T16:03:14', 'id': 'LC8_L1T_TOA/LC80180302015186LGN00'}, {'date': '2015-07-21T16:03:22', 'id': 'LC8_L1T_TOA/LC80180302015202LGN00'}, {'date': '2015-07-30T15:57:13', 'id': 'LC8_L1T_TOA/LC80170302015211LGN00'}, {'date': '2015-08-06T16:03:25', 'id': 'LC8_L1T_TOA/LC80180302015218LGN00'}, {'date': '2015-08-15T15:57:19', 'id': 'LC8_L1T_TOA/LC80170302015227LGN00'}, {'date': '2015-08-22T16:03:33', 'id': 'LC8_L1T_TOA/LC80180302015234LGN00'}, {'date': '2015-08-31T15:57:25', 'id': 'LC8_L1T_TOA/LC80170302015243LGN00'}, {'date': '2015-09-07T16:03:39', 'id': 'LC8_L1T_TOA/LC80180302015250LGN00'}, {'date': '2015-09-16T15:57:33', 'id': 'LC8_L1T_TOA/LC80170302015259LGN00'}, {'date': '2015-09-23T16:03:47', 'id': 'LC8_L1T_TOA/LC80180302015266LGN00'}, {'date': '2015-10-02T15:57:38', 'id': 'LC8_L1T_TOA/LC80170302015275LGN00'}, {'date': '2015-10-18T15:57:38', 'id': 'LC8_L1T_TOA/LC80170302015291LGN00'}, {'date': '2015-10-25T16:03:53', 'id': 'LC8_L1T_TOA/LC80180302015298LGN00'}, {'date': '2015-11-03T15:57:43', 'id': 'LC8_L1T_TOA/LC80170302015307LGN00'}, {'date': '2015-11-19T15:57:45', 'id': 'LC8_L1T_TOA/LC80170302015323LGN00'}, {'date': '2015-11-26T16:03:57', 'id': 'LC8_L1T_TOA/LC80180302015330LGN02'}, {'date': '2015-12-28T16:03:55', 'id': 'LC8_L1T_TOA/LC80180302015362LGN00'}, {'date': '2016-01-06T15:57:41', 'id': 'LC8_L1T_TOA/LC80170302016006LGN00'}, {'date': '2016-01-13T16:03:52', 'id': 'LC8_L1T_TOA/LC80180302016013LGN00'}, {'date': '2016-01-22T15:57:42', 'id': 'LC8_L1T_TOA/LC80170302016022LGN00'}, {'date': '2016-01-29T16:03:51', 'id': 'LC8_L1T_TOA/LC80180302016029LGN00'}, {'date': '2016-02-07T15:57:37', 'id': 'LC8_L1T_TOA/LC80170302016038LGN00'}, {'date': '2016-02-14T16:03:44', 'id': 'LC8_L1T_TOA/LC80180302016045LGN00'}, {'date': '2016-02-23T15:57:30', 'id': 'LC8_L1T_TOA/LC80170302016054LGN00'}, {'date': '2016-03-17T16:03:36', 'id': 'LC8_L1T_TOA/LC80180302016077LGN00'}, {'date': '2016-03-26T15:57:19', 'id': 'LC8_L1T_TOA/LC80170302016086LGN00'}, {'date': '2016-04-02T16:03:26', 'id': 'LC8_L1T_TOA/LC80180302016093LGN00'}, {'date': '2016-04-18T16:03:21', 'id': 'LC8_L1T_TOA/LC80180302016109LGN00'}, {'date': '2016-04-27T15:57:10', 'id': 'LC8_L1T_TOA/LC80170302016118LGN00'}, {'date': '2016-05-04T16:03:24', 'id': 'LC8_L1T_TOA/LC80180302016125LGN00'}, {'date': '2016-05-13T15:57:09', 'id': 'LC8_L1T_TOA/LC80170302016134LGN00'}, {'date': '2016-05-20T16:03:23', 'id': 'LC8_L1T_TOA/LC80180302016141LGN00'}, {'date': '2016-05-29T15:57:16', 'id': 'LC8_L1T_TOA/LC80170302016150LGN00'}, {'date': '2016-06-05T16:03:28', 'id': 'LC8_L1T_TOA/LC80180302016157LGN00'}, {'date': '2016-06-14T15:57:18', 'id': 'LC8_L1T_TOA/LC80170302016166LGN00'}, {'date': '2016-06-21T16:03:33', 'id': 'LC8_L1T_TOA/LC80180302016173LGN00'}, {'date': '2016-06-30T15:57:27', 'id': 'LC8_L1T_TOA/LC80170302016182LGN00'}, {'date': '2016-07-07T16:03:41', 'id': 'LC8_L1T_TOA/LC80180302016189LGN00'}, {'date': '2016-07-16T15:57:34', 'id': 'LC8_L1T_TOA/LC80170302016198LGN00'}, {'date': '2016-07-23T16:03:47', 'id': 'LC8_L1T_TOA/LC80180302016205LGN00'}, {'date': '2016-08-01T15:57:38', 'id': 'LC8_L1T_TOA/LC80170302016214LGN00'}, {'date': '2016-08-08T16:03:49', 'id': 'LC8_L1T_TOA/LC80180302016221LGN00'}, {'date': '2016-08-17T15:57:42', 'id': 'LC8_L1T_TOA/LC80170302016230LGN00'}, {'date': '2016-08-24T16:03:56', 'id': 'LC8_L1T_TOA/LC80180302016237LGN00'}, {'date': '2016-09-02T15:57:48', 'id': 'LC8_L1T_TOA/LC80170302016246LGN00'}, {'date': '2016-09-09T16:04:00', 'id': 'LC8_L1T_TOA/LC80180302016253LGN00'}, {'date': '2016-09-18T15:57:51', 'id': 'LC8_L1T_TOA/LC80170302016262LGN00'}, {'date': '2016-09-25T16:04:01', 'id': 'LC8_L1T_TOA/LC80180302016269LGN00'}, {'date': '2016-10-04T15:57:53', 'id': 'LC8_L1T_TOA/LC80170302016278LGN00'}, {'date': '2016-10-11T16:04:06', 'id': 'LC8_L1T_TOA/LC80180302016285LGN00'}, {'date': '2016-11-05T15:57:57', 'id': 'LC8_L1T_TOA/LC80170302016310LGN00'}, {'date': '2016-11-12T16:04:07', 'id': 'LC8_L1T_TOA/LC80180302016317LGN00'}, {'date': '2016-11-28T16:04:08', 'id': 'LC8_L1T_TOA/LC80180302016333LGN00'}, {'date': '2016-12-14T16:04:04', 'id': 'LC8_L1T_TOA/LC80180302016349LGN00'}, {'date': '2016-12-23T15:57:51', 'id': 'LC8_L1T_TOA/LC80170302016358LGN00'}, {'date': '2017-01-08T15:57:48', 'id': 'LC8_L1T_TOA/LC80170302017008LGN00'}, {'date': '2017-01-15T16:03:57', 'id': 'LC8_L1T_TOA/LC80180302017015LGN00'}, {'date': '2017-02-09T15:57:34', 'id': 'LC8_L1T_TOA/LC80170302017040LGN00'}]\n",
      "8 days, 23:53:42\n",
      "7 days, 0:06:05\n",
      "8 days, 23:53:40\n",
      "15 days, 23:59:50\n",
      "15 days, 23:59:45\n",
      "7 days, 0:06:02\n",
      "24 days, 23:53:25\n",
      "15 days, 23:59:54\n",
      "7 days, 0:06:16\n",
      "8 days, 23:53:54\n",
      "7 days, 0:06:13\n",
      "16 days, 0:00:04\n",
      "8 days, 23:53:54\n",
      "7 days, 0:06:12\n",
      "8 days, 23:53:51\n",
      "7 days, 0:06:16\n",
      "8 days, 23:53:53\n",
      "7 days, 0:06:12\n",
      "8 days, 23:53:49\n",
      "7 days, 0:06:14\n",
      "15 days, 23:59:59\n",
      "8 days, 23:53:51\n",
      "7 days, 0:06:14\n",
      "16 days, 0:00:02\n",
      "24 days, 23:53:48\n",
      "15 days, 23:59:59\n",
      "39 days, 0:06:02\n",
      "15 days, 23:59:55\n",
      "24 days, 23:53:40\n",
      "7 days, 0:06:09\n",
      "8 days, 23:53:43\n",
      "15 days, 23:59:51\n",
      "7 days, 0:06:05\n",
      "8 days, 23:53:46\n",
      "7 days, 0:06:11\n",
      "8 days, 23:53:46\n",
      "7 days, 0:06:04\n",
      "8 days, 23:53:40\n",
      "7 days, 0:06:09\n",
      "8 days, 23:53:52\n",
      "7 days, 0:06:16\n",
      "8 days, 23:53:55\n",
      "7 days, 0:06:14\n",
      "16 days, 0:00:08\n",
      "16 days, 0:00:08\n",
      "8 days, 23:53:51\n",
      "7 days, 0:06:12\n",
      "8 days, 23:53:54\n",
      "7 days, 0:06:14\n",
      "8 days, 23:53:52\n",
      "7 days, 0:06:14\n",
      "8 days, 23:53:54\n",
      "7 days, 0:06:14\n",
      "8 days, 23:53:51\n",
      "16 days, 0:00:00\n",
      "7 days, 0:06:15\n",
      "8 days, 23:53:50\n",
      "16 days, 0:00:02\n",
      "7 days, 0:06:12\n",
      "31 days, 23:59:58\n",
      "8 days, 23:53:46\n",
      "7 days, 0:06:11\n",
      "8 days, 23:53:50\n",
      "7 days, 0:06:09\n",
      "8 days, 23:53:46\n",
      "7 days, 0:06:07\n",
      "8 days, 23:53:46\n",
      "23 days, 0:06:06\n",
      "8 days, 23:53:43\n",
      "7 days, 0:06:07\n",
      "15 days, 23:59:55\n",
      "8 days, 23:53:49\n",
      "7 days, 0:06:14\n",
      "8 days, 23:53:45\n",
      "7 days, 0:06:14\n",
      "8 days, 23:53:53\n",
      "7 days, 0:06:12\n",
      "8 days, 23:53:50\n",
      "7 days, 0:06:15\n",
      "8 days, 23:53:54\n",
      "7 days, 0:06:14\n",
      "8 days, 23:53:53\n",
      "7 days, 0:06:13\n",
      "8 days, 23:53:51\n",
      "7 days, 0:06:11\n",
      "8 days, 23:53:53\n",
      "7 days, 0:06:14\n",
      "8 days, 23:53:52\n",
      "7 days, 0:06:12\n",
      "8 days, 23:53:51\n",
      "7 days, 0:06:10\n",
      "8 days, 23:53:52\n",
      "7 days, 0:06:13\n",
      "24 days, 23:53:51\n",
      "7 days, 0:06:10\n",
      "16 days, 0:00:01\n",
      "15 days, 23:59:56\n",
      "8 days, 23:53:47\n",
      "15 days, 23:59:57\n",
      "7 days, 0:06:09\n",
      "24 days, 23:53:37\n",
      "Next time: 2017-02-20 12:37:53.504950\n"
     ]
    }
   ],
   "source": [
    "flyby(43.078154, -79.075891)"
   ]
  },
  {
   "cell_type": "code",
   "execution_count": null,
   "metadata": {
    "collapsed": true
   },
   "outputs": [],
   "source": []
  }
 ],
 "metadata": {
  "anaconda-cloud": {},
  "kernelspec": {
   "display_name": "Python [conda root]",
   "language": "python",
   "name": "conda-root-py"
  },
  "language_info": {
   "codemirror_mode": {
    "name": "ipython",
    "version": 3
   },
   "file_extension": ".py",
   "mimetype": "text/x-python",
   "name": "python",
   "nbconvert_exporter": "python",
   "pygments_lexer": "ipython3",
   "version": "3.5.2"
  }
 },
 "nbformat": 4,
 "nbformat_minor": 1
}
