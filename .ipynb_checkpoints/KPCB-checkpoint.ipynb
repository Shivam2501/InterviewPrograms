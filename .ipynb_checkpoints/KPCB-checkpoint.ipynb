{
 "cells": [
  {
   "cell_type": "code",
   "execution_count": 21,
   "metadata": {
    "collapsed": true
   },
   "outputs": [],
   "source": [
    "###################################\n",
    "# KPCB Engineering Fellow Program #\n",
    "# Created by: Shivam Bharuka      #\n",
    "# Contact: bharuka2@illinois.edu  #\n",
    "###################################\n",
    "\n",
    "# Problem Statement:\n",
    "# Using only primitive types, implement a fixed-size \n",
    "# hash map that associates string keys with arbitrary \n",
    "# data object references.\n",
    "#\n",
    "# Solution:\n",
    "#  \n",
    "# Implement a chained linked list fixed size hashMap\n",
    "# where each index of the map stores a linked list\n",
    "# of items with the same hash value to avoid collision."
   ]
  },
  {
   "cell_type": "code",
   "execution_count": 22,
   "metadata": {
    "collapsed": true
   },
   "outputs": [],
   "source": [
    "# This class creates a node object for each (key, value)\n",
    "# pair. These node objects can be inserted into the linked\n",
    "# list.\n",
    "class Node:\n",
    "    def __init__(self, key, value):\n",
    "        # TO-DO: Check key, value type\n",
    "        self.key = key\n",
    "        self.value = value\n",
    "        self.next = None\n",
    "    \n",
    "    def setNext(self, nextNode):\n",
    "        self.next = nextNode\n",
    "    \n",
    "    def __str__(self):\n",
    "        return str(self.key)"
   ]
  },
  {
   "cell_type": "code",
   "execution_count": 23,
   "metadata": {
    "collapsed": true
   },
   "outputs": [],
   "source": [
    "# This class creates a linked list which stores\n",
    "# (key, value) nodes.\n",
    "class LinkedList:\n",
    "    def __init__(self):\n",
    "        self.head = None\n",
    "        \n",
    "    def searchNode(self, key):\n",
    "        currentHead = self.head\n",
    "        while currentHead is not None:\n",
    "            if currentHead.key == key:\n",
    "                return currentHead.value\n",
    "            else:\n",
    "                currentHead = currentHead.next\n",
    "        return None\n",
    "          \n",
    "    # Insert the (key, value) pair if the key is not present in the list.\n",
    "    # Otherwise, update the value of the existing key.\n",
    "    # Return value: True on insertion and False on updating an existing value\n",
    "    def updateOrInsertNode(self, key, value):\n",
    "        if self.head is None:\n",
    "            newNode = Node(key, value)\n",
    "            self.head = newNode\n",
    "            return True\n",
    "        if self.head.key == key:\n",
    "            self.head.value = value\n",
    "            return False\n",
    "        \n",
    "        currentHead = self.head\n",
    "        while currentHead.next is not None:\n",
    "            if currentHead.next.key == key:\n",
    "                currentHead.next.value = value\n",
    "                return False\n",
    "            else:\n",
    "                currentHead = currentHead.next\n",
    "        \n",
    "        newNode = Node(key, value)\n",
    "        currentHead.setNext(newNode)\n",
    "        return True\n",
    "        \n",
    "    def deleteNode(self, key):\n",
    "        currentHead = self.head\n",
    "        if currentHead is None:\n",
    "            return currentHead\n",
    "        if currentHead.key == key:\n",
    "            self.head = currentHead.next\n",
    "            return currentHead.value\n",
    "        \n",
    "        while currentHead.next is not None:\n",
    "            if currentHead.next.key == key:\n",
    "                value = currentHead.next.value\n",
    "                currentHead.setNext(currentHead.next.next)\n",
    "                return value\n",
    "            else:\n",
    "                currentHead = currentHead.next\n",
    "        return None"
   ]
  },
  {
   "cell_type": "code",
   "execution_count": 24,
   "metadata": {
    "collapsed": true
   },
   "outputs": [],
   "source": [
    "class KPCBMap:\n",
    "    \n",
    "    def __init__(self, size):\n",
    "        self.size = 0\n",
    "        self.mapSize = size\n",
    "        self.kpcbMap = [LinkedList()] * size\n",
    "        \n",
    "    def set(self, key, value):\n",
    "        mapIndex = hash(key) % self.mapSize\n",
    "        if self.size == self.mapSize and self.kpcbMap[mapIndex].searchNode(key) is None:\n",
    "            return False\n",
    "        \n",
    "        insertNode = self.kpcbMap[mapIndex].updateOrInsertNode(key, value)\n",
    "        if insertNode:\n",
    "            self.size += 1\n",
    "        return True\n",
    "    \n",
    "    def get(self, key):\n",
    "        mapIndex = hash(key) % self.mapSize\n",
    "        return self.kpcbMap[mapIndex].searchNode(key)\n",
    "    \n",
    "    def delete(self, key):\n",
    "        mapIndex = hash(key) % self.mapSize\n",
    "        value = self.kpcbMap[mapIndex].deleteNode(key)\n",
    "        if value is not None:\n",
    "            self.size -= 1\n",
    "        return value\n",
    "    \n",
    "    def load(self):\n",
    "        return self.size / self.mapSize"
   ]
  },
  {
   "cell_type": "code",
   "execution_count": null,
   "metadata": {
    "collapsed": true
   },
   "outputs": [],
   "source": []
  }
 ],
 "metadata": {
  "anaconda-cloud": {},
  "kernelspec": {
   "display_name": "Python [conda root]",
   "language": "python",
   "name": "conda-root-py"
  },
  "language_info": {
   "codemirror_mode": {
    "name": "ipython",
    "version": 3
   },
   "file_extension": ".py",
   "mimetype": "text/x-python",
   "name": "python",
   "nbconvert_exporter": "python",
   "pygments_lexer": "ipython3",
   "version": "3.5.2"
  }
 },
 "nbformat": 4,
 "nbformat_minor": 1
}
