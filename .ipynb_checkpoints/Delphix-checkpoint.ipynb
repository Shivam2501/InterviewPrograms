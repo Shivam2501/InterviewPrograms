{
 "cells": [
  {
   "cell_type": "code",
   "execution_count": 99,
   "metadata": {
    "collapsed": false
   },
   "outputs": [],
   "source": [
    "import requests, json\n",
    "from datetime import datetime, timedelta\n",
    "apikey = '9Jz6tLIeJ0yY9vjbEUWaH9fsXA930J9hspPchute'\n",
    "url = 'https://api.nasa.gov/planetary/earth/assets?lon={}&lat={}&begin={}&api_key=' + apikey"
   ]
  },
  {
   "cell_type": "code",
   "execution_count": 118,
   "metadata": {
    "collapsed": false
   },
   "outputs": [],
   "source": [
    "'''\n",
    "flyby:\n",
    "Input: Coordinates of the location\n",
    "Output: Estimated Time a satellite image will be taken\n",
    "Return: None\n",
    "'''\n",
    "def flyby(latitude, longitude):\n",
    "    begin_date = '2014-02-01'\n",
    "    response = requests.get(url.format(latitude,longitude,begin_date))\n",
    "    if response.ok: #if status code = 200 (Success)\n",
    "        data = response.json()\n",
    "        if data['count'] == 0:\n",
    "            print(\"Only EARTH coordinates accepted!\")\n",
    "        else:\n",
    "            last_date = data['results'][-1]['date']\n",
    "            avg_time = 0\n",
    "            for i in range(0, int(data['count'])-1):\n",
    "                diff = datetime.strptime(data['results'][i+1]['date'], '%Y-%m-%dT%H:%M:%S') - datetime.strptime(data['results'][i]['date'], '%Y-%m-%dT%H:%M:%S')\n",
    "                avg_time += diff.total_seconds()\n",
    "            avg_time /= int(data['count']) - 1\n",
    "            next_date = timedelta(seconds=avg_time) + datetime.strptime(last_date, '%Y-%m-%dT%H:%M:%S')\n",
    "            print(\"Next time: {}\".format(next_date))\n",
    "    else:\n",
    "        print(\"Ughh! Error Connecting to the Satellite\")"
   ]
  },
  {
   "cell_type": "code",
   "execution_count": 119,
   "metadata": {
    "collapsed": false
   },
   "outputs": [
    {
     "name": "stdout",
     "output_type": "stream",
     "text": [
      "Next time: 2017-03-01 22:50:12.370968\n"
     ]
    }
   ],
   "source": [
    "flyby(100.75, 1.5)"
   ]
  },
  {
   "cell_type": "code",
   "execution_count": null,
   "metadata": {
    "collapsed": true
   },
   "outputs": [],
   "source": []
  }
 ],
 "metadata": {
  "anaconda-cloud": {},
  "kernelspec": {
   "display_name": "Python [conda root]",
   "language": "python",
   "name": "conda-root-py"
  },
  "language_info": {
   "codemirror_mode": {
    "name": "ipython",
    "version": 3
   },
   "file_extension": ".py",
   "mimetype": "text/x-python",
   "name": "python",
   "nbconvert_exporter": "python",
   "pygments_lexer": "ipython3",
   "version": "3.5.2"
  }
 },
 "nbformat": 4,
 "nbformat_minor": 1
}
