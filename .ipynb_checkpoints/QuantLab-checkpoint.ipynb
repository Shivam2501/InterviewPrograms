{
 "cells": [
  {
   "cell_type": "code",
   "execution_count": 40,
   "metadata": {
    "collapsed": false
   },
   "outputs": [],
   "source": [
    "import csv\n",
    "from collections import defaultdict\n",
    "\n",
    "#dictionary which stores all unique symbols\n",
    "dict = defaultdict(list)\n",
    "\n",
    "with open('input.csv', newline='') as csvfile:\n",
    "    tradereader = csv.reader(csvfile, delimiter=',', quotechar=\"|\")\n",
    "    for row in tradereader:\n",
    "        #check if symbol is unique\n",
    "        if not row[1] in dict:\n",
    "            #initialize dict\n",
    "            dict[row[1]] = [int(row[0]), 0, int(row[2]), int(row[2])*int(row[3]), int(row[3])]\n",
    "        else:\n",
    "            #update volume\n",
    "            dict[row[1]][2] += int(row[2])\n",
    "            #update avg price\n",
    "            dict[row[1]][3] += int(row[2])*int(row[3])\n",
    "            #update max price\n",
    "            if dict[row[1]][4] < int(row[3]):\n",
    "                dict[row[1]][4] = int(row[3])\n",
    "            \n",
    "            #update max difference timestamp\n",
    "            if int(row[0]) - dict[row[1]][0] > dict[row[1]][1]:\n",
    "                dict[row[1]][1] = int(row[0]) - dict[row[1]][0]\n",
    "                dict[row[1]][0] = int(row[0])\n",
    "\n",
    "\n",
    "with open('output.csv', 'w', newline='') as csvfile:\n",
    "    tradewriter = csv.writer(csvfile, delimiter=',', quotechar='|', quoting=csv.QUOTE_MINIMAL)\n",
    "    \n",
    "    for key, value in sorted(dict.items()):\n",
    "        tradewriter.writerow( (key, value[1], value[2], int(value[3]/value[2]), value[4]))"
   ]
  }
 ],
 "metadata": {
  "kernelspec": {
   "display_name": "Python 3",
   "language": "python",
   "name": "python3"
  },
  "language_info": {
   "codemirror_mode": {
    "name": "ipython",
    "version": 3
   },
   "file_extension": ".py",
   "mimetype": "text/x-python",
   "name": "python",
   "nbconvert_exporter": "python",
   "pygments_lexer": "ipython3",
   "version": "3.5.2"
  }
 },
 "nbformat": 4,
 "nbformat_minor": 1
}
