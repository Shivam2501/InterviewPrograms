{
 "cells": [
  {
   "cell_type": "code",
   "execution_count": 3,
   "metadata": {},
   "outputs": [],
   "source": [
    "def createPrefixArray(substring):\n",
    "    result, length = [0]*len(substring), 0\n",
    "    \n",
    "    for i in range(1, len(substring)):\n",
    "        if substring[i] in [substring[length], '*'] or substring[length] == '*':\n",
    "            length += 1\n",
    "            result[i] = length\n",
    "        else:\n",
    "            length = 0\n",
    "            i -= 1\n",
    "    return result\n",
    "\n",
    "def firstOccurrence(a,  b):\n",
    "    result = createPrefixArray(b)\n",
    "    index, i, j = -1, 0, 0\n",
    "    \n",
    "    while i < len(a):\n",
    "        if b[j] in [ '*', a[i] ]:\n",
    "            i += 1\n",
    "            j += 1\n",
    "            if j == len(b):\n",
    "                index = i - len(b)\n",
    "                break\n",
    "        else:\n",
    "            if b[result[j-1]] in [ '*', a[i] ]:\n",
    "                i += 1\n",
    "                j = result[j-1] + 1\n",
    "            else:\n",
    "                i += 1\n",
    "                j = 0\n",
    "                \n",
    "    #Running time: O(len(a))\n",
    "    return index"
   ]
  },
  {
   "cell_type": "code",
   "execution_count": 4,
   "metadata": {},
   "outputs": [
    {
     "name": "stdout",
     "output_type": "stream",
     "text": [
      "[0, 0, 0, 0, 1, 2, 3, 0]\n"
     ]
    },
    {
     "data": {
      "text/plain": [
       "4"
      ]
     },
     "execution_count": 4,
     "metadata": {},
     "output_type": "execute_result"
    }
   ],
   "source": [
    "string = \"abcdabcdabcy\"\n",
    "substr = \"abcdabcy\"\n",
    "firstOccurrence(string, substr)"
   ]
  },
  {
   "cell_type": "code",
   "execution_count": null,
   "metadata": {},
   "outputs": [],
   "source": []
  }
 ],
 "metadata": {
  "kernelspec": {
   "display_name": "Python 3",
   "language": "python",
   "name": "python3"
  },
  "language_info": {
   "codemirror_mode": {
    "name": "ipython",
    "version": 3
   },
   "file_extension": ".py",
   "mimetype": "text/x-python",
   "name": "python",
   "nbconvert_exporter": "python",
   "pygments_lexer": "ipython3",
   "version": "3.6.5"
  }
 },
 "nbformat": 4,
 "nbformat_minor": 1
}
