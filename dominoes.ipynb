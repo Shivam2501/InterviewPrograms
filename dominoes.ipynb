{
 "cells": [
  {
   "cell_type": "code",
   "execution_count": 52,
   "metadata": {},
   "outputs": [],
   "source": [
    "def arrange_dominoes(arr):\n",
    "    # arr = [4, 3, 3, 4, 1, 2, 2, 3, 6, 5, 4, 5]\n",
    "    dominoes = {}\n",
    "    pairs = []\n",
    "    for i in range(0, len(arr), 2):\n",
    "        if (arr[i], arr[i+1]) in dominoes:\n",
    "            pairs.append((arr[i], arr[i+1]))\n",
    "            dominoes[(arr[i], arr[i+1])] += 1\n",
    "        elif (arr[i+1], arr[i]) in dominoes:\n",
    "            pairs.append((arr[i+1], arr[i]))\n",
    "            dominoes[(arr[i+1], arr[i])] += 1\n",
    "        else:\n",
    "            dominoes[(arr[i], arr[i+1])] = 1\n",
    "    \n",
    "    for pair in pairs:\n",
    "        dominoes[(pair[0], pair[1])] -= 2\n",
    "        # check if the pyramid can be made using the remaining dominoes\n",
    "        x = pair[0]\n",
    "        y = pair[1]\n",
    "        \n",
    "        for key, value in dominoes.items():\n",
    "            if value != 0:\n",
    "                if key[0] == x or key[1] == x:\n",
    "                    dominoes[(key[0], key[1])] -= 1\n",
    "                    next_key = key[1] if key[0] == x else key[0]\n",
    "                    \n",
    "                    for key2, value2 in dominoes.items():\n",
    "                        if value2 != 0:\n",
    "                            if key2[0] == next_key or key2[1] == next_key:\n",
    "                                dominoes[(key2[0], key2[1])] -= 1\n",
    "                                \n",
    "                                for key3, value3 in dominoes.items():\n",
    "                                    if value3 != 0:\n",
    "                                        if key3[0] == y or key3[1] == y:\n",
    "                                            dominoes[(key3[0], key3[1])] -= 1\n",
    "                                            next_key2 = key3[1] if key3[0] == y else key3[0]\n",
    "                                            \n",
    "                                            for key4, value4 in dominoes.items():\n",
    "                                                if value4 != 0:\n",
    "                                                    if key4[0] == next_key2 or key4[1] == next_key2:\n",
    "                                                        dominoes[(key4[0], key4[1])] -= 1\n",
    "                                                        return True\n",
    "                                            dominoes[(key3[0], key3[1])] += 1\n",
    "                                dominoes[(key2[0], key2[1])] += 1\n",
    "                    dominoes[(key[0], key[1])] += 1\n",
    "        dominoes[(pair[0], pair[1])] += 2\n",
    "    return False"
   ]
  },
  {
   "cell_type": "code",
   "execution_count": 53,
   "metadata": {},
   "outputs": [
    {
     "name": "stdout",
     "output_type": "stream",
     "text": [
      "(4, 3)\n"
     ]
    },
    {
     "data": {
      "text/plain": [
       "True"
      ]
     },
     "execution_count": 53,
     "metadata": {},
     "output_type": "execute_result"
    }
   ],
   "source": [
    "arrange_dominoes([4, 3, 3, 4, 1, 2, 2, 3, 6, 5, 4, 5])"
   ]
  },
  {
   "cell_type": "code",
   "execution_count": null,
   "metadata": {},
   "outputs": [],
   "source": []
  }
 ],
 "metadata": {
  "kernelspec": {
   "display_name": "Python 3",
   "language": "python",
   "name": "python3"
  },
  "language_info": {
   "codemirror_mode": {
    "name": "ipython",
    "version": 3
   },
   "file_extension": ".py",
   "mimetype": "text/x-python",
   "name": "python",
   "nbconvert_exporter": "python",
   "pygments_lexer": "ipython3",
   "version": "3.6.5"
  }
 },
 "nbformat": 4,
 "nbformat_minor": 2
}
