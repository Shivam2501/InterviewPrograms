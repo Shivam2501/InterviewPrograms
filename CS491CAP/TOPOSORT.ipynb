{
 "cells": [
  {
   "cell_type": "code",
   "execution_count": 44,
   "metadata": {
    "collapsed": false
   },
   "outputs": [
    {
     "name": "stdout",
     "output_type": "stream",
     "text": [
      "2 2\n",
      "1 2\n",
      "2 1\n",
      "[1, 2]\n"
     ]
    }
   ],
   "source": [
    "from collections import defaultdict\n",
    "class Graph:  \n",
    "    def __init__(self, V):\n",
    "        self.vertices = V #number of vertices\n",
    "        self.adjacent = defaultdict(list) #adjacency list\n",
    "        self.nodes = set()\n",
    "        \n",
    "    def addNode(self, parentNode, childNode):\n",
    "        self.adjacent[int(parentNode)].append(int(childNode))\n",
    "        self.adjacent[int(parentNode)] = list(set(self.adjacent[int(parentNode)]))\n",
    "        self.nodes.add(int(parentNode))\n",
    "        self.nodes.add(int(childNode))\n",
    "\n",
    "def dfs(vertex, visited, result, duplicate, flag):\n",
    "    visited[vertex] = True\n",
    "    \n",
    "    duplicate.append(vertex)\n",
    "    for vertices in g.adjacent[vertex]:\n",
    "        if vertices in duplicate:\n",
    "            flag[0] = 0\n",
    "        if not visited[vertices]:\n",
    "            dfs(vertices, visited, result, duplicate, flag)\n",
    "    \n",
    "    result.append(vertex)\n",
    "    \n",
    "def main():\n",
    "    #input n=n[0] and m=n[1]\n",
    "    count = input() \n",
    "    n = count.split()\n",
    "\n",
    "    #create a graph object of n vertices\n",
    "    g = Graph(int(n[0]))\n",
    "\n",
    "    #read all the edges and add it to the graph\n",
    "    for edge in range(int(n[1])):\n",
    "        nodes = input()\n",
    "        vertices = nodes.split()\n",
    "        g.addNode(vertices[0], vertices[1])\n",
    "\n",
    "\n",
    "    for i in range(1,g.vertices+1):\n",
    "        if i not in g.adjacent:\n",
    "            g.adjacent.setdefault(i,list())\n",
    "        if i not in g.nodes:\n",
    "            g.nodes.add(i)\n",
    "\n",
    "    result = []\n",
    "\n",
    "    #mark all the vertices as unvisited\n",
    "    visited = {}\n",
    "    for i in g.nodes:\n",
    "        visited[i] = False\n",
    "\n",
    "    g.nodes = list(g.nodes)\n",
    "    g.nodes.sort()\n",
    "\n",
    "    flag = [1]\n",
    "    for i in reversed(g.nodes):\n",
    "        if not visited[i]:\n",
    "            duplicate = []\n",
    "            dfs(i, visited, result, duplicate, flag)\n",
    "\n",
    "    result = list(reversed(result)) \n",
    "    if flag[0]:\n",
    "        print(result)\n",
    "    else:\n",
    "        print(\"Sandro fails.\")\n",
    "        \n",
    "if __name__ == \"__main__\":\n",
    "    main()"
   ]
  }
 ],
 "metadata": {
  "kernelspec": {
   "display_name": "Python 3",
   "language": "python",
   "name": "python3"
  },
  "language_info": {
   "codemirror_mode": {
    "name": "ipython",
    "version": 3
   },
   "file_extension": ".py",
   "mimetype": "text/x-python",
   "name": "python",
   "nbconvert_exporter": "python",
   "pygments_lexer": "ipython3",
   "version": "3.5.2"
  }
 },
 "nbformat": 4,
 "nbformat_minor": 1
}
