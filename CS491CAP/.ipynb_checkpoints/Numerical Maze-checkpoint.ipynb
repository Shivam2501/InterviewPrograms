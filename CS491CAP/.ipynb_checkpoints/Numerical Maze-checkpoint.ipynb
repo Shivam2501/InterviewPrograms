{
 "cells": [
  {
   "cell_type": "code",
   "execution_count": 37,
   "metadata": {
    "collapsed": false
   },
   "outputs": [],
   "source": [
    "matrix, visited, length, flag = [[None for _ in range(105)] for _ in range(105)], [[None for _ in range(105)] for _ in range(105)], 0, 0\n",
    "def dfs(x, y, countX, countY, numRows, numColumns):\n",
    "    if x >= numRows or x < 0 or y >= numColumns or y < 0:\n",
    "        return\n",
    "    if matrix[x][y] != countX:\n",
    "        return\n",
    "    \n",
    "    if visited[x][y]:\n",
    "        return\n",
    "    \n",
    "    if x == numRows - 1:\n",
    "        if y < length:\n",
    "            length = y\n",
    "        flag = 1\n",
    "        return\n",
    "    \n",
    "    if p == q:\n",
    "        p = 0\n",
    "        q += 1\n",
    "        \n",
    "    visited[x][y] = 1\n",
    "    dfs(x, y+1, countX+1, countY, numRows, numColumns)\n",
    "    dfs(x, y-1, countX+1, countY, numRows, numColumns)\n",
    "    dfs(x+1, y, countX+1, countY, numRows, numColumns)\n",
    "    dfs(x-1, y, countX+1, countY, numRows, numColumns)\n",
    "    \n",
    "    visited[x][y] = 0\n",
    "    "
   ]
  },
  {
   "cell_type": "code",
   "execution_count": 51,
   "metadata": {
    "collapsed": false
   },
   "outputs": [],
   "source": [
    "def main():\n",
    "    numCases = input()\n",
    "    numCases = int(numCases)\n",
    "    while(numCases):\n",
    "        input()\n",
    "        num = input().split()\n",
    "        numRows = num[0]\n",
    "        numColumns = num[1]\n",
    "        \n",
    "        for i in range(int(numRows)):\n",
    "            inputRow = input().split()\n",
    "            for j in range(int(numColumns)):\n",
    "                matrix[i][j] = inputRow[j]\n",
    "        \n",
    "        last = -1\n",
    "        \n",
    "        for i in range(int(numColumns)):\n",
    "            flag, length, last = 0, 0, i\n",
    "            dfs(0, i, 1, 1, int(numRows), int(numColumns))\n",
    "            if flag:\n",
    "                break\n",
    "            numCases -= 1\n",
    "        \n",
    "        print(1, last+1, numRows, length+1)\n",
    "        if numCases:\n",
    "            print(\"\")\n",
    "    return"
   ]
  },
  {
   "cell_type": "code",
   "execution_count": 56,
   "metadata": {
    "collapsed": false
   },
   "outputs": [
    {
     "name": "stdout",
     "output_type": "stream",
     "text": [
      "2dnajfld\n"
     ]
    },
    {
     "ename": "ValueError",
     "evalue": "invalid literal for int() with base 10: '2dnajfld'",
     "output_type": "error",
     "traceback": [
      "\u001b[0;31m---------------------------------------------------------------------------\u001b[0m",
      "\u001b[0;31mValueError\u001b[0m                                Traceback (most recent call last)",
      "\u001b[0;32m<ipython-input-56-89026442c8a6>\u001b[0m in \u001b[0;36m<module>\u001b[0;34m()\u001b[0m\n\u001b[1;32m      1\u001b[0m \u001b[0;32mif\u001b[0m \u001b[0m__name__\u001b[0m \u001b[0;34m==\u001b[0m \u001b[0;34m\"__main__\"\u001b[0m\u001b[0;34m:\u001b[0m\u001b[0;34m\u001b[0m\u001b[0m\n\u001b[0;32m----> 2\u001b[0;31m     \u001b[0mmain\u001b[0m\u001b[0;34m(\u001b[0m\u001b[0;34m)\u001b[0m\u001b[0;34m\u001b[0m\u001b[0m\n\u001b[0m",
      "\u001b[0;32m<ipython-input-51-ab9fd4962fa4>\u001b[0m in \u001b[0;36mmain\u001b[0;34m()\u001b[0m\n\u001b[1;32m      1\u001b[0m \u001b[0;32mdef\u001b[0m \u001b[0mmain\u001b[0m\u001b[0;34m(\u001b[0m\u001b[0;34m)\u001b[0m\u001b[0;34m:\u001b[0m\u001b[0;34m\u001b[0m\u001b[0m\n\u001b[1;32m      2\u001b[0m     \u001b[0mnumCases\u001b[0m \u001b[0;34m=\u001b[0m \u001b[0minput\u001b[0m\u001b[0;34m(\u001b[0m\u001b[0;34m)\u001b[0m\u001b[0;34m\u001b[0m\u001b[0m\n\u001b[0;32m----> 3\u001b[0;31m     \u001b[0mnumCases\u001b[0m \u001b[0;34m=\u001b[0m \u001b[0mint\u001b[0m\u001b[0;34m(\u001b[0m\u001b[0mnumCases\u001b[0m\u001b[0;34m)\u001b[0m\u001b[0;34m\u001b[0m\u001b[0m\n\u001b[0m\u001b[1;32m      4\u001b[0m     \u001b[0;32mwhile\u001b[0m\u001b[0;34m(\u001b[0m\u001b[0mnumCases\u001b[0m\u001b[0;34m)\u001b[0m\u001b[0;34m:\u001b[0m\u001b[0;34m\u001b[0m\u001b[0m\n\u001b[1;32m      5\u001b[0m         \u001b[0minput\u001b[0m\u001b[0;34m(\u001b[0m\u001b[0;34m)\u001b[0m\u001b[0;34m\u001b[0m\u001b[0m\n",
      "\u001b[0;31mValueError\u001b[0m: invalid literal for int() with base 10: '2dnajfld'"
     ]
    }
   ],
   "source": [
    "if __name__ == \"__main__\":\n",
    "    main()\n"
   ]
  },
  {
   "cell_type": "code",
   "execution_count": null,
   "metadata": {
    "collapsed": true
   },
   "outputs": [],
   "source": []
  }
 ],
 "metadata": {
  "kernelspec": {
   "display_name": "Python 3",
   "language": "python",
   "name": "python3"
  },
  "language_info": {
   "codemirror_mode": {
    "name": "ipython",
    "version": 3
   },
   "file_extension": ".py",
   "mimetype": "text/x-python",
   "name": "python",
   "nbconvert_exporter": "python",
   "pygments_lexer": "ipython3",
   "version": "3.5.2"
  }
 },
 "nbformat": 4,
 "nbformat_minor": 1
}
