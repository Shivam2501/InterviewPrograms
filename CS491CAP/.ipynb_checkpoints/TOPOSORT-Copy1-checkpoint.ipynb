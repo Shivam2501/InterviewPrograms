{
 "cells": [
  {
   "cell_type": "code",
   "execution_count": 2,
   "metadata": {
    "collapsed": false
   },
   "outputs": [],
   "source": [
    "import numpy as np"
   ]
  },
  {
   "cell_type": "code",
   "execution_count": 3,
   "metadata": {
    "collapsed": true
   },
   "outputs": [],
   "source": [
    "class Graph:  \n",
    "    def __init__(self, V):\n",
    "        self.vertices = V #number of vertices\n",
    "        self.adjacent = {} #adjacency list\n",
    "        self.nodes = set()\n",
    "        \n",
    "    def addNode(self, parentNode, childNode):\n",
    "        self.adjacent.setdefault(int(parentNode),list()).append(int(childNode))\n",
    "        self.nodes.add(int(parentNode))\n",
    "        self.nodes.add(int(childNode))"
   ]
  },
  {
   "cell_type": "code",
   "execution_count": 4,
   "metadata": {
    "collapsed": false
   },
   "outputs": [
    {
     "name": "stdout",
     "output_type": "stream",
     "text": [
      "2 2\n",
      "1 2\n",
      "2 1\n"
     ]
    }
   ],
   "source": [
    "#input n=n[0] and m=n[1]\n",
    "count = input() \n",
    "n = count.split()\n",
    "\n",
    "#create a graph object of n vertices\n",
    "g = Graph(int(n[0]))\n",
    "\n",
    "#read all the edges and add it to the graph\n",
    "for edge in range(int(n[1])):\n",
    "    nodes = input()\n",
    "    vertices = nodes.split()\n",
    "    g.addNode(vertices[0], vertices[1])\n"
   ]
  },
  {
   "cell_type": "code",
   "execution_count": 5,
   "metadata": {
    "collapsed": false
   },
   "outputs": [],
   "source": [
    "for i in range(1,g.vertices+1):\n",
    "    if i not in g.adjacent:\n",
    "        g.adjacent.setdefault(i,list())\n",
    "    if i not in g.nodes:\n",
    "        g.nodes.add(i)"
   ]
  },
  {
   "cell_type": "code",
   "execution_count": 8,
   "metadata": {
    "collapsed": true
   },
   "outputs": [],
   "source": [
    "def dfs(vertex, visited, result, duplicate):\n",
    "    visited[vertex] = True\n",
    "    \n",
    "    duplicate.append(vertex)\n",
    "    for vertices in g.adjacent[vertex]:\n",
    "        if vertices in duplicate:\n",
    "            return\n",
    "        if not visited[vertices]:\n",
    "            dfs(vertices, visited, result, duplicate)\n",
    "    \n",
    "    result.append(vertex)"
   ]
  },
  {
   "cell_type": "code",
   "execution_count": 9,
   "metadata": {
    "collapsed": false
   },
   "outputs": [
    {
     "name": "stdout",
     "output_type": "stream",
     "text": [
      "Sandro fails.\n"
     ]
    }
   ],
   "source": [
    "result = []\n",
    "\n",
    "#mark all the vertices as unvisited\n",
    "visited = {}\n",
    "for i in g.nodes:\n",
    "    visited[i] = False\n",
    "\n",
    "g.nodes = list(g.nodes)\n",
    "g.nodes.sort()\n",
    "\n",
    "for i in reversed(g.nodes):\n",
    "    if not visited[i]:\n",
    "        duplicate = []\n",
    "        dfs(i, visited, result, duplicate)\n",
    "\n",
    "if g.vertices == len(result):\n",
    "    print(result)\n",
    "else:\n",
    "    print(\"Sandro fails.\")"
   ]
  }
 ],
 "metadata": {
  "kernelspec": {
   "display_name": "Python 3",
   "language": "python",
   "name": "python3"
  },
  "language_info": {
   "codemirror_mode": {
    "name": "ipython",
    "version": 3
   },
   "file_extension": ".py",
   "mimetype": "text/x-python",
   "name": "python",
   "nbconvert_exporter": "python",
   "pygments_lexer": "ipython3",
   "version": "3.5.2"
  }
 },
 "nbformat": 4,
 "nbformat_minor": 1
}
