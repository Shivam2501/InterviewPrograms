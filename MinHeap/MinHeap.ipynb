{
 "cells": [
  {
   "cell_type": "code",
   "execution_count": 80,
   "metadata": {},
   "outputs": [],
   "source": [
    "class MinHeap:\n",
    "    \n",
    "    def  __init__(self):\n",
    "        self.heap = []\n",
    "        self.numElements = 0\n",
    "    \n",
    "    def _parent(self, childIndex):\n",
    "        return (childIndex - 1) // 2\n",
    "    \n",
    "    def _lftChild(self, parentIndex):\n",
    "        return 2*parentIndex + 1\n",
    "    \n",
    "    def _rhtChild(self, parentIndex):\n",
    "        return 2*parentIndex + 2\n",
    "    \n",
    "    def _heapifyUp(self, currIndex):\n",
    "        # Heapify up to fix the violated conditions of a binary heap.\n",
    "        while currIndex != 0 and self.heap[currIndex] < self.heap[self._parent(currIndex)]:\n",
    "            temp = self.heap[self._parent(currIndex)]\n",
    "            self.heap[self._parent(currIndex)] = self.heap[currIndex]\n",
    "            self.heap[currIndex] = temp\n",
    "\n",
    "            currIndex = self._parent(currIndex)\n",
    "            \n",
    "    def _heapifyDown(self, currIndex):\n",
    "        leftChild = self._lftChild(currIndex)\n",
    "        rightChild = self._rhtChild(currIndex)\n",
    "        \n",
    "        smallest = currIndex\n",
    "        if leftChild < self.numElements and self.heap[leftChild] < self.heap[smallest]:\n",
    "            smallest = leftChild\n",
    "        if rightChild < self.numElements and self.heap[rightChild] < self.heap[smallest]:\n",
    "            smallest = rightChild\n",
    "        if smallest != currIndex:\n",
    "            temp = self.heap[smallest]\n",
    "            self.heap[smallest] = self.heap[currIndex]\n",
    "            self.heap[currIndex] = temp\n",
    "            \n",
    "            self._heapifyDown(smallest)\n",
    "        \n",
    "    def insertKey(self, value):\n",
    "        # Insert at the end of heap and then heapify up.\n",
    "        self.numElements += 1\n",
    "        currIndex = self.numElements - 1\n",
    "        self.heap.append(value)\n",
    "        \n",
    "        self._heapifyUp(currIndex)\n",
    "    \n",
    "    def deleteKeyatIndex(self, index):\n",
    "        if self.numElements <= 0:\n",
    "            return\n",
    "        \n",
    "        self.heap[index] = self.heap[self.numElements - 1]\n",
    "        del self.heap[self.numElements - 1]\n",
    "        self.numElements -= 1\n",
    "        \n",
    "        if index != 0 and self.heap[index] < self.heap[self._parent(index)]:\n",
    "            self._heapifyUp(index)\n",
    "        else:\n",
    "            self._heapifyDown(index)"
   ]
  },
  {
   "cell_type": "code",
   "execution_count": 81,
   "metadata": {},
   "outputs": [],
   "source": [
    "minHeap = MinHeap()\n",
    "minHeap.insertKey(2)"
   ]
  },
  {
   "cell_type": "code",
   "execution_count": 82,
   "metadata": {},
   "outputs": [],
   "source": [
    "minHeap.insertKey(4)\n",
    "minHeap.insertKey(7)\n",
    "minHeap.insertKey(1)\n",
    "minHeap.insertKey(8)\n",
    "minHeap.insertKey(3)"
   ]
  },
  {
   "cell_type": "code",
   "execution_count": 83,
   "metadata": {},
   "outputs": [
    {
     "name": "stdout",
     "output_type": "stream",
     "text": [
      "[1, 2, 3, 4, 8, 7]\n"
     ]
    }
   ],
   "source": [
    "print(minHeap.heap)"
   ]
  },
  {
   "cell_type": "code",
   "execution_count": 84,
   "metadata": {},
   "outputs": [],
   "source": [
    "minHeap.deleteKeyatIndex(2)"
   ]
  },
  {
   "cell_type": "code",
   "execution_count": 85,
   "metadata": {},
   "outputs": [
    {
     "name": "stdout",
     "output_type": "stream",
     "text": [
      "[1, 2, 7, 4, 8]\n"
     ]
    }
   ],
   "source": [
    "print(minHeap.heap)"
   ]
  },
  {
   "cell_type": "code",
   "execution_count": 86,
   "metadata": {},
   "outputs": [],
   "source": [
    "minHeap.deleteKeyatIndex(1)"
   ]
  },
  {
   "cell_type": "code",
   "execution_count": 87,
   "metadata": {},
   "outputs": [
    {
     "name": "stdout",
     "output_type": "stream",
     "text": [
      "[1, 4, 7, 8]\n"
     ]
    }
   ],
   "source": [
    "print(minHeap.heap)"
   ]
  },
  {
   "cell_type": "code",
   "execution_count": 90,
   "metadata": {},
   "outputs": [],
   "source": [
    "minHeap.deleteKeyatIndex(0)\n",
    "minHeap.deleteKeyatIndex(0)\n",
    "minHeap.deleteKeyatIndex(0)\n",
    "minHeap.deleteKeyatIndex(0)"
   ]
  },
  {
   "cell_type": "code",
   "execution_count": 91,
   "metadata": {},
   "outputs": [
    {
     "name": "stdout",
     "output_type": "stream",
     "text": [
      "[]\n"
     ]
    }
   ],
   "source": [
    "print(minHeap.heap)"
   ]
  },
  {
   "cell_type": "code",
   "execution_count": 92,
   "metadata": {},
   "outputs": [],
   "source": [
    "minHeap.insertKey(1)\n",
    "minHeap.insertKey(5)\n",
    "minHeap.insertKey(6)\n",
    "minHeap.insertKey(9)\n",
    "minHeap.insertKey(11)\n",
    "minHeap.insertKey(8)\n",
    "minHeap.insertKey(15)\n",
    "minHeap.insertKey(17)\n",
    "minHeap.insertKey(21)"
   ]
  },
  {
   "cell_type": "code",
   "execution_count": 93,
   "metadata": {},
   "outputs": [
    {
     "name": "stdout",
     "output_type": "stream",
     "text": [
      "[1, 5, 6, 9, 11, 8, 15, 17, 21]\n"
     ]
    }
   ],
   "source": [
    "print(minHeap.heap)"
   ]
  },
  {
   "cell_type": "code",
   "execution_count": 94,
   "metadata": {},
   "outputs": [],
   "source": [
    "minHeap.deleteKeyatIndex(1)"
   ]
  },
  {
   "cell_type": "code",
   "execution_count": 95,
   "metadata": {},
   "outputs": [
    {
     "name": "stdout",
     "output_type": "stream",
     "text": [
      "[1, 9, 6, 17, 11, 8, 15, 21]\n"
     ]
    }
   ],
   "source": [
    "print(minHeap.heap)"
   ]
  },
  {
   "cell_type": "code",
   "execution_count": 96,
   "metadata": {},
   "outputs": [],
   "source": [
    "minHeap.insertKey(5)"
   ]
  },
  {
   "cell_type": "code",
   "execution_count": 97,
   "metadata": {},
   "outputs": [
    {
     "name": "stdout",
     "output_type": "stream",
     "text": [
      "[1, 5, 6, 9, 11, 17, 15, 21]\n"
     ]
    }
   ],
   "source": [
    "minHeap.deleteKeyatIndex(5)\n",
    "print(minHeap.heap)"
   ]
  },
  {
   "cell_type": "code",
   "execution_count": null,
   "metadata": {},
   "outputs": [],
   "source": []
  }
 ],
 "metadata": {
  "kernelspec": {
   "display_name": "Python 3",
   "language": "python",
   "name": "python3"
  },
  "language_info": {
   "codemirror_mode": {
    "name": "ipython",
    "version": 3
   },
   "file_extension": ".py",
   "mimetype": "text/x-python",
   "name": "python",
   "nbconvert_exporter": "python",
   "pygments_lexer": "ipython3",
   "version": "3.6.5"
  }
 },
 "nbformat": 4,
 "nbformat_minor": 2
}
