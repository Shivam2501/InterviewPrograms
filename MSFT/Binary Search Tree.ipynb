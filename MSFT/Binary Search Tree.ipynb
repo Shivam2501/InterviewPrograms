{
 "cells": [
  {
   "cell_type": "code",
   "execution_count": 116,
   "metadata": {
    "collapsed": true
   },
   "outputs": [],
   "source": [
    "class Node:\n",
    "    \n",
    "    def __init__(self, data):\n",
    "        self.data = data\n",
    "        self.count = 1\n",
    "        self.rightChild = None\n",
    "        self.leftChild = None\n",
    "        self.rightSibling = None"
   ]
  },
  {
   "cell_type": "code",
   "execution_count": 142,
   "metadata": {
    "scrolled": true
   },
   "outputs": [],
   "source": [
    "class BinarySearchTree:\n",
    "    \n",
    "    def __init__(self):\n",
    "        self.head = None\n",
    "            \n",
    "    def addNode(self, data):\n",
    "        if self.head is None:\n",
    "            self.head = Node(data)\n",
    "            return\n",
    "        \n",
    "        currNode = self.head\n",
    "        while currNode is not None:\n",
    "            if currNode.data > data:\n",
    "                if currNode.leftChild is None:\n",
    "                    currNode.leftChild = Node(data)\n",
    "                    return\n",
    "                currNode = currNode.leftChild\n",
    "            elif currNode.data < data:\n",
    "                if currNode.rightChild is None:\n",
    "                    currNode.rightChild = Node(data)\n",
    "                    return\n",
    "                currNode = currNode.rightChild\n",
    "            else:\n",
    "                currNode.count += 1\n",
    "                return\n",
    "    \n",
    "    def levelOrder(self):\n",
    "        queue = []\n",
    "        queue.append(self.head)\n",
    "        levelCounter = 0\n",
    "        current = 1\n",
    "        while len(queue):\n",
    "            currNode = queue.pop(0)\n",
    "            current -= 1\n",
    "            print(currNode.data, end = ' ')\n",
    "            if currNode.leftChild is not None:\n",
    "                queue.append(currNode.leftChild)\n",
    "                levelCounter += 1\n",
    "            if currNode.rightChild is not None:\n",
    "                queue.append(currNode.rightChild)\n",
    "                levelCounter += 1\n",
    "            if current == 0:\n",
    "                print(\"\")\n",
    "                current = levelCounter\n",
    "                levelCounter = 0\n",
    "                \n",
    "    def heightTree(self, node):\n",
    "        if node.leftChild is None and node.rightChild is None:\n",
    "            return 0\n",
    "        else:\n",
    "            lc = 0\n",
    "            rc = 0\n",
    "            if node.leftChild is not None:\n",
    "                lc = self.heightTree(node.leftChild)\n",
    "            if node.rightChild is not None:\n",
    "                rc = self.heightTree(node.rightChild)\n",
    "            return max(rc, lc) + 1\n",
    "        \n",
    "    def findNode(self, node, data):\n",
    "        if node is None:\n",
    "            return -1\n",
    "        else:\n",
    "            if node.data == data:\n",
    "                return node\n",
    "            else:\n",
    "                if node.data > data:\n",
    "                    return self.findNode(node.leftChild, data)\n",
    "                elif node.data < data:\n",
    "                    return self.findNode(node.rightChild, data)\n",
    "                \n",
    "    def heightNode(self, data):\n",
    "        node = self.findNode(self.head, data)\n",
    "        if node != -1:\n",
    "            return self.heightTree(node)\n",
    "        else:\n",
    "            return -1\n",
    "        \n",
    "    def addSiblingPointer(self):\n",
    "        queue = []\n",
    "        queue.append(self.head)\n",
    "        levelCounter = 0\n",
    "        current = 1\n",
    "        while len(queue):\n",
    "            currNode = queue.pop(0)\n",
    "            current -= 1\n",
    "            if currNode.leftChild is not None:\n",
    "                queue.append(currNode.leftChild)\n",
    "                levelCounter += 1\n",
    "            if currNode.rightChild is not None:\n",
    "                queue.append(currNode.rightChild)\n",
    "                levelCounter += 1\n",
    "            if current == 0:\n",
    "                current = levelCounter\n",
    "                levelCounter = 0\n",
    "            else:\n",
    "                currNode.rightSibling = queue[0]"
   ]
  },
  {
   "cell_type": "code",
   "execution_count": 143,
   "metadata": {},
   "outputs": [],
   "source": [
    "tree = BinarySearchTree()\n",
    "tree.addNode(6)\n",
    "tree.addNode(3)\n",
    "tree.addNode(1)\n",
    "tree.addNode(5)\n",
    "tree.addNode(7)\n",
    "tree.addNode(3)\n",
    "tree.addNode(10)\n",
    "tree.addNode(12)\n",
    "tree.addNode(15)"
   ]
  },
  {
   "cell_type": "code",
   "execution_count": 144,
   "metadata": {},
   "outputs": [
    {
     "name": "stdout",
     "output_type": "stream",
     "text": [
      "6 \n",
      "3 7 \n",
      "1 5 10 \n",
      "12 \n",
      "15 \n"
     ]
    }
   ],
   "source": [
    "tree.levelOrder()"
   ]
  },
  {
   "cell_type": "code",
   "execution_count": 124,
   "metadata": {},
   "outputs": [
    {
     "data": {
      "text/plain": [
       "4"
      ]
     },
     "execution_count": 124,
     "metadata": {},
     "output_type": "execute_result"
    }
   ],
   "source": [
    "tree.heightNode(6)"
   ]
  },
  {
   "cell_type": "code",
   "execution_count": 125,
   "metadata": {
    "collapsed": true
   },
   "outputs": [],
   "source": [
    "tree.addSiblingPointer()"
   ]
  },
  {
   "cell_type": "code",
   "execution_count": 138,
   "metadata": {},
   "outputs": [
    {
     "name": "stdout",
     "output_type": "stream",
     "text": [
      "10\n"
     ]
    }
   ],
   "source": [
    "currNode = tree.findNode(tree.head, 5)\n",
    "print(currNode.rightSibling.data)"
   ]
  },
  {
   "cell_type": "code",
   "execution_count": null,
   "metadata": {
    "collapsed": true
   },
   "outputs": [],
   "source": []
  }
 ],
 "metadata": {
  "kernelspec": {
   "display_name": "Python 3",
   "language": "python",
   "name": "python3"
  },
  "language_info": {
   "codemirror_mode": {
    "name": "ipython",
    "version": 3
   },
   "file_extension": ".py",
   "mimetype": "text/x-python",
   "name": "python",
   "nbconvert_exporter": "python",
   "pygments_lexer": "ipython3",
   "version": "3.6.5"
  }
 },
 "nbformat": 4,
 "nbformat_minor": 1
}
