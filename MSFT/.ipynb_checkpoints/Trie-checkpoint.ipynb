{
 "cells": [
  {
   "cell_type": "code",
   "execution_count": 4,
   "metadata": {
    "collapsed": true
   },
   "outputs": [],
   "source": [
    "class TrieNode:\n",
    "    def __init__(self):\n",
    "        self.childrens = {}\n",
    "        self.isLeaf = False"
   ]
  },
  {
   "cell_type": "code",
   "execution_count": 5,
   "metadata": {
    "collapsed": false
   },
   "outputs": [],
   "source": [
    "class Trie:\n",
    "    def __init__(self):\n",
    "        self.head = TrieNode()\n",
    "        \n",
    "    def insert(self, word):\n",
    "        currNode = self.head\n",
    "        for letter in word:\n",
    "            if letter not in currNode.childrens:\n",
    "                currNode.childrens[letter] = TrieNode()\n",
    "            currNode = currNode.childrens[letter]\n",
    "        currNode.isLeaf = True\n",
    "        \n",
    "    def find(self, word):\n",
    "        currNode = self.head\n",
    "        for letter in word:\n",
    "             if letter not in currNode.childrens:\n",
    "                return False\n",
    "             currNode = currNode.childrens[letter]\n",
    "        return (currNode is not None and currNode.isLeaf)"
   ]
  },
  {
   "cell_type": "code",
   "execution_count": 6,
   "metadata": {
    "collapsed": false
   },
   "outputs": [],
   "source": [
    "root = Trie()\n",
    "root.insert('the')\n",
    "root.insert('there')\n",
    "root.insert('a')\n",
    "root.insert('answer')\n",
    "root.insert('any')"
   ]
  },
  {
   "cell_type": "code",
   "execution_count": 7,
   "metadata": {
    "collapsed": false
   },
   "outputs": [
    {
     "name": "stdout",
     "output_type": "stream",
     "text": [
      "True\n",
      "True\n",
      "True\n",
      "False\n"
     ]
    }
   ],
   "source": [
    "print(root.find('answer'))\n",
    "print(root.find('any'))\n",
    "print(root.find('the'))\n",
    "print(root.find('ther'))"
   ]
  }
 ],
 "metadata": {
  "kernelspec": {
   "display_name": "Python 3",
   "language": "python",
   "name": "python3"
  },
  "language_info": {
   "codemirror_mode": {
    "name": "ipython",
    "version": 3
   },
   "file_extension": ".py",
   "mimetype": "text/x-python",
   "name": "python",
   "nbconvert_exporter": "python",
   "pygments_lexer": "ipython3",
   "version": "3.5.2"
  }
 },
 "nbformat": 4,
 "nbformat_minor": 1
}
