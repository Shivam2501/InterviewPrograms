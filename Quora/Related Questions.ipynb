{
 "cells": [
  {
   "cell_type": "code",
   "execution_count": 39,
   "metadata": {
    "collapsed": true
   },
   "outputs": [],
   "source": [
    "class Question:\n",
    "    def __init__(self, id, time):\n",
    "        self.id = id\n",
    "        self.readingTime = time\n",
    "        self.relations = set()\n",
    "        self.totalTime = time\n",
    "\n",
    "class Questions:\n",
    "    def __init__(self):\n",
    "        self.questions = {}"
   ]
  },
  {
   "cell_type": "code",
   "execution_count": 40,
   "metadata": {
    "collapsed": false
   },
   "outputs": [
    {
     "name": "stdout",
     "output_type": "stream",
     "text": [
      "5\n",
      "2 2 1 2 2\n",
      "1 2\n",
      "2 3\n",
      "3 4\n",
      "4 5\n",
      "1 {2}\n",
      "2 {1, 3}\n",
      "3 {2, 4}\n",
      "4 {3, 5}\n",
      "5 {4}\n"
     ]
    }
   ],
   "source": [
    "q = Questions()\n",
    "\n",
    "n = int(input())\n",
    "t = input().split()\n",
    "for i in range(n):\n",
    "    t[i] = int(t[i])\n",
    "    q.questions[i+1] = Question(i+1, t[i])\n",
    "    \n",
    "for i in range(3, n+2):\n",
    "    q1, q2 = input().split()\n",
    "    q1, q2 = int(q1), int(q2)\n",
    "    \n",
    "    q.questions[q1].relations.add(q2)\n",
    "    q.questions[q2].relations.add(q1)\n",
    "    \n",
    "for key, value in q.questions.items():\n",
    "    print(key, value.relations)"
   ]
  },
  {
   "cell_type": "code",
   "execution_count": 44,
   "metadata": {
    "collapsed": false
   },
   "outputs": [
    {
     "name": "stdout",
     "output_type": "stream",
     "text": [
      "1 9\n",
      "2 7\n",
      "3 5\n",
      "4 4\n",
      "5 2\n"
     ]
    }
   ],
   "source": [
    "def dfs(startNode, visited):\n",
    "    visited.add(startNode.id)\n",
    "    for i in startNode.relations - visited:\n",
    "        time = dfs(q.questions[i], visited)\n",
    "        if startNode.readingTime + time > startNode.totalTime:\n",
    "            startNode.totalTime = startNode.readingTime + time\n",
    "    return startNode.totalTime\n",
    "\n",
    "visited = set()\n",
    "dfs(q.questions[1], visited)\n",
    "\n",
    "for key, value in q.questions.items():\n",
    "    print(key, value.totalTime)"
   ]
  },
  {
   "cell_type": "code",
   "execution_count": null,
   "metadata": {
    "collapsed": true
   },
   "outputs": [],
   "source": []
  }
 ],
 "metadata": {
  "anaconda-cloud": {},
  "kernelspec": {
   "display_name": "Python [default]",
   "language": "python",
   "name": "python3"
  },
  "language_info": {
   "codemirror_mode": {
    "name": "ipython",
    "version": 3
   },
   "file_extension": ".py",
   "mimetype": "text/x-python",
   "name": "python",
   "nbconvert_exporter": "python",
   "pygments_lexer": "ipython3",
   "version": "3.5.2"
  }
 },
 "nbformat": 4,
 "nbformat_minor": 1
}
