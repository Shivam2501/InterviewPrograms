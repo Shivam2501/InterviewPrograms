{
 "cells": [
  {
   "cell_type": "code",
   "execution_count": 34,
   "metadata": {
    "collapsed": true
   },
   "outputs": [],
   "source": [
    "import threading"
   ]
  },
  {
   "cell_type": "code",
   "execution_count": 51,
   "metadata": {},
   "outputs": [],
   "source": [
    "queue = []\n",
    "lock = threading.Condition()\n",
    "\n",
    "class Queue(threading.Thread):\n",
    "    \n",
    "    def __init__(self):\n",
    "        threading.Thread.__init__(self)\n",
    "        \n",
    "    def pop(self):\n",
    "        with lock:\n",
    "            print(\"Size of Queue: \", len(queue))\n",
    "            while len(queue) == 0:\n",
    "                lock.wait()\n",
    "\n",
    "            print(\"Popped Item: \", queue[0])\n",
    "            queue.pop(0)\n",
    "        \n",
    "    def push(self, item):\n",
    "        with lock:\n",
    "            queue.append(item)\n",
    "            print(\"Item Pushed: \", queue)\n",
    "            lock.notify()"
   ]
  },
  {
   "cell_type": "code",
   "execution_count": 52,
   "metadata": {},
   "outputs": [],
   "source": [
    "user_A = Queue()\n",
    "user_B = Queue()\n",
    "\n",
    "user_A.start()\n",
    "user_B.start()"
   ]
  },
  {
   "cell_type": "code",
   "execution_count": 53,
   "metadata": {},
   "outputs": [
    {
     "name": "stdout",
     "output_type": "stream",
     "text": [
      "Item Pushed:  [2]\n",
      "Item Pushed:  [2, 3]\n",
      "Size of Queue:  2\n",
      "Popped Item:  2\n",
      "Size of Queue:  1\n",
      "Popped Item:  3\n"
     ]
    }
   ],
   "source": [
    "user_A.push(2)\n",
    "user_B.push(3)\n",
    "user_A.pop()\n",
    "user_B.pop()"
   ]
  }
 ],
 "metadata": {
  "kernelspec": {
   "display_name": "Python 3",
   "language": "python",
   "name": "python3"
  },
  "language_info": {
   "codemirror_mode": {
    "name": "ipython",
    "version": 3
   },
   "file_extension": ".py",
   "mimetype": "text/x-python",
   "name": "python",
   "nbconvert_exporter": "python",
   "pygments_lexer": "ipython3",
   "version": "3.6.5"
  }
 },
 "nbformat": 4,
 "nbformat_minor": 1
}
