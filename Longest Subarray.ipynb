{
 "cells": [
  {
   "cell_type": "code",
   "execution_count": 16,
   "metadata": {
    "collapsed": false
   },
   "outputs": [],
   "source": [
    "def longestsubarray(a, k):\n",
    "    start, currentSum = 0, 0\n",
    "    maxlength = 0\n",
    "    for i in range(len(a)):\n",
    "        currentSum += a[i]\n",
    "        if currentSum > k:\n",
    "            if i-start > maxlength:\n",
    "                maxlength = i-start\n",
    "            while currentSum > k:\n",
    "                currentSum -= a[start]\n",
    "                start += 1\n",
    "    print(maxlength)"
   ]
  },
  {
   "cell_type": "code",
   "execution_count": 18,
   "metadata": {
    "collapsed": false
   },
   "outputs": [],
   "source": [
    "def main():\n",
    "    a = [3, 1, 2, 1, 5, 6]\n",
    "    k = 4\n",
    "    longestsubarray(a, k)"
   ]
  },
  {
   "cell_type": "code",
   "execution_count": 19,
   "metadata": {
    "collapsed": false
   },
   "outputs": [
    {
     "name": "stdout",
     "output_type": "stream",
     "text": [
      "3\n"
     ]
    }
   ],
   "source": [
    "if __name__ == \"__main__\":\n",
    "    main()"
   ]
  }
 ],
 "metadata": {
  "kernelspec": {
   "display_name": "Python 3",
   "language": "python",
   "name": "python3"
  },
  "language_info": {
   "codemirror_mode": {
    "name": "ipython",
    "version": 3
   },
   "file_extension": ".py",
   "mimetype": "text/x-python",
   "name": "python",
   "nbconvert_exporter": "python",
   "pygments_lexer": "ipython3",
   "version": "3.5.2"
  }
 },
 "nbformat": 4,
 "nbformat_minor": 1
}
